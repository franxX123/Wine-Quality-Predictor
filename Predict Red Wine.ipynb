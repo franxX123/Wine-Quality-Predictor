{
 "cells": [
  {
   "cell_type": "markdown",
   "id": "5e402230",
   "metadata": {},
   "source": [
    "## Project - Applying Data Science Methodology on Red Wine Quality Dataset\n",
    "\n",
    "<img src=\"https://media.giphy.com/media/jRuv9xc10lVyE/giphy.gif\">\n",
    "\n",
    "You can read more about the Data Science Methodology from this [IBM whitepaper](https://tdwi.org/~/media/64511A895D86457E964174EDC5C4C7B1.PDF) by John Rollins\n",
    "\n",
    "[Link](https://archive.ics.uci.edu/ml/datasets/wine+quality) for the dataset for context\n",
    "\n",
    "<img src=\"https://media-exp1.licdn.com/dms/image/C4D12AQGOPVf5iqhhwQ/article-inline_image-shrink_1000_1488/0/1597756152693?e=1652918400&v=beta&t=iKZ2jX3khsx11lD9JyZWDz-j-Gt2hZsKPXz5rZ0iE1M\">"
   ]
  },
  {
   "cell_type": "markdown",
   "id": "96fa59d2",
   "metadata": {
    "button": false,
    "new_sheet": false,
    "run_control": {
     "read_only": false
    }
   },
   "source": [
    "### Business Understanding\n",
    "\n",
    "The red wine industry shows a recent exponential growth as social drinking is on the rise. Nowadays, industry players are using product quality certifications to promote their products. This is a time-consuming process and requires the assessment given by human experts, which makes this process very expensive. Also, the price of red wine depends on a rather abstract concept of wine appreciation by wine tasters, opinion among whom may have a high degree of variability. Another vital factor in red wine certification and quality assessment is physicochemical tests, which are laboratory-based and consider factors like acidity, pH level, sugar, and other chemical properties. The red wine market would be of interest if the human quality of tasting can be related to wine’s chemical properties so that certification and quality assessment and assurance processes are more controlled. \n",
    "\n",
    "The goal is to implement Regression Models and Classification Models on the Red Wine Quality Dataset to determine which features are the best quality red wine indicators and generate insights into each of these factors to our model’s red wine quality."
   ]
  },
  {
   "cell_type": "markdown",
   "id": "ead99b54",
   "metadata": {},
   "source": [
    "### Analytic Approach\n",
    "Based on the above business understanding one should decide the analytical approach to follow. The approaches can be of 4 types: Descriptive approach (current status and information provided), Diagnostic approach(a.k.a statistical analysis, what is happening and why it is happening), Predictive approach(it forecasts on the trends or future events probability) and Prescriptive approach( how the problem should be solved actually).\n",
    "\n",
    "**Q1. What is the analytical approach that you would take for this project? Why do you think its the right approach?**\n",
    "\n",
    "*TODO*\n",
    "\n",
    "Answer: I would take a Predictive Approach for this project since the task requires that we make a prediction about the quality of wine, which will be facilitated using the data provided through the use of analytical methods for finding the trends in the data. This approach will include looking at some correlations between the different features in the data and removing these correlated features to make sure that the model's accuracy doesn't get affected, removing or replacing certain feature values, engineering more features and analyzing trends related to these features, and then using the preprocessed data to feed to a model to learn the underlying pattern and make a suitable prediction. "
   ]
  },
  {
   "cell_type": "markdown",
   "id": "12766c3d",
   "metadata": {},
   "source": [
    "### Data Requirements\n",
    "\n",
    "**Q2. What kind of data do we require for predicting the red wine quality and for determining the features that are the best quality red wine indicators?**\n",
    "\n",
    "*TODO*\n",
    "\n",
    "For this problem it is instrumental that we have floating point and integer typed values as the type of our features to leverage effective machine learning models."
   ]
  },
  {
   "cell_type": "markdown",
   "id": "5d59c819",
   "metadata": {},
   "source": [
    "### Data Collection\n",
    "\n",
    "**Q3. From where do we get our data?**\n",
    "\n",
    "*TODO*\n",
    "We will be using the dataset winequality-red.csv as provided by the instructor, and can be found in the following link:\n",
    "https://archive.ics.uci.edu/ml/datasets/wine+quality."
   ]
  },
  {
   "attachments": {},
   "cell_type": "markdown",
   "id": "c8419dbc",
   "metadata": {},
   "source": [
    "### Data Understanding\n",
    "\n",
    "Link for the dataset https://archive.ics.uci.edu/ml/datasets/wine+quality for context\n",
    "\n",
    "**Q4. From where are red wine samples obtained?**\n",
    "\n",
    "ANSWER: According to the website https://archive.ics.uci.edu/ml/datasets/wine+quality, the dataset provided about red vinho verde wine samples was taken from the north of Portugal, and donated in 2009 to the website mentioned above.\n",
    "\n",
    "\n",
    "**Q5. How can knowing the impact of each variable on the red wine quality help businesses(producers, distributors, etc) ?**\n",
    "\n",
    "ANSWER: By knowing the impact of each variable in the wine we can derive the most important factors in creating quality wine, as a result wine makers can improve their wine creation process by reducing certain factors and increasing others, which is helpful for setting prices.\n",
    "\n",
    "*TODO*\n",
    "<li>Check the shape of data, and the datatypes of the features</li>\n",
    "<li>Understand the data by carrying out any steps that you think are necessary</li>"
   ]
  },
  {
   "cell_type": "code",
   "execution_count": 1,
   "id": "5cc8ac17",
   "metadata": {},
   "outputs": [
    {
     "data": {
      "text/html": [
       "<div>\n",
       "<style scoped>\n",
       "    .dataframe tbody tr th:only-of-type {\n",
       "        vertical-align: middle;\n",
       "    }\n",
       "\n",
       "    .dataframe tbody tr th {\n",
       "        vertical-align: top;\n",
       "    }\n",
       "\n",
       "    .dataframe thead th {\n",
       "        text-align: right;\n",
       "    }\n",
       "</style>\n",
       "<table border=\"1\" class=\"dataframe\">\n",
       "  <thead>\n",
       "    <tr style=\"text-align: right;\">\n",
       "      <th></th>\n",
       "      <th>fixed acidity</th>\n",
       "      <th>volatile acidity</th>\n",
       "      <th>citric acid</th>\n",
       "      <th>residual sugar</th>\n",
       "      <th>chlorides</th>\n",
       "      <th>free sulfur dioxide</th>\n",
       "      <th>total sulfur dioxide</th>\n",
       "      <th>density</th>\n",
       "      <th>pH</th>\n",
       "      <th>sulphates</th>\n",
       "      <th>alcohol</th>\n",
       "      <th>quality</th>\n",
       "    </tr>\n",
       "  </thead>\n",
       "  <tbody>\n",
       "    <tr>\n",
       "      <th>0</th>\n",
       "      <td>7.4</td>\n",
       "      <td>0.70</td>\n",
       "      <td>0.00</td>\n",
       "      <td>1.9</td>\n",
       "      <td>0.076</td>\n",
       "      <td>11.0</td>\n",
       "      <td>34.0</td>\n",
       "      <td>0.9978</td>\n",
       "      <td>3.51</td>\n",
       "      <td>0.56</td>\n",
       "      <td>9.4</td>\n",
       "      <td>5</td>\n",
       "    </tr>\n",
       "    <tr>\n",
       "      <th>1</th>\n",
       "      <td>7.8</td>\n",
       "      <td>0.88</td>\n",
       "      <td>0.00</td>\n",
       "      <td>2.6</td>\n",
       "      <td>0.098</td>\n",
       "      <td>25.0</td>\n",
       "      <td>67.0</td>\n",
       "      <td>0.9968</td>\n",
       "      <td>3.20</td>\n",
       "      <td>0.68</td>\n",
       "      <td>9.8</td>\n",
       "      <td>5</td>\n",
       "    </tr>\n",
       "    <tr>\n",
       "      <th>2</th>\n",
       "      <td>7.8</td>\n",
       "      <td>0.76</td>\n",
       "      <td>0.04</td>\n",
       "      <td>2.3</td>\n",
       "      <td>0.092</td>\n",
       "      <td>15.0</td>\n",
       "      <td>54.0</td>\n",
       "      <td>0.9970</td>\n",
       "      <td>3.26</td>\n",
       "      <td>0.65</td>\n",
       "      <td>9.8</td>\n",
       "      <td>5</td>\n",
       "    </tr>\n",
       "    <tr>\n",
       "      <th>3</th>\n",
       "      <td>11.2</td>\n",
       "      <td>0.28</td>\n",
       "      <td>0.56</td>\n",
       "      <td>1.9</td>\n",
       "      <td>0.075</td>\n",
       "      <td>17.0</td>\n",
       "      <td>60.0</td>\n",
       "      <td>0.9980</td>\n",
       "      <td>3.16</td>\n",
       "      <td>0.58</td>\n",
       "      <td>9.8</td>\n",
       "      <td>6</td>\n",
       "    </tr>\n",
       "    <tr>\n",
       "      <th>4</th>\n",
       "      <td>7.4</td>\n",
       "      <td>0.70</td>\n",
       "      <td>0.00</td>\n",
       "      <td>1.9</td>\n",
       "      <td>0.076</td>\n",
       "      <td>11.0</td>\n",
       "      <td>34.0</td>\n",
       "      <td>0.9978</td>\n",
       "      <td>3.51</td>\n",
       "      <td>0.56</td>\n",
       "      <td>9.4</td>\n",
       "      <td>5</td>\n",
       "    </tr>\n",
       "  </tbody>\n",
       "</table>\n",
       "</div>"
      ],
      "text/plain": [
       "   fixed acidity  volatile acidity  citric acid  residual sugar  chlorides  \\\n",
       "0            7.4              0.70         0.00             1.9      0.076   \n",
       "1            7.8              0.88         0.00             2.6      0.098   \n",
       "2            7.8              0.76         0.04             2.3      0.092   \n",
       "3           11.2              0.28         0.56             1.9      0.075   \n",
       "4            7.4              0.70         0.00             1.9      0.076   \n",
       "\n",
       "   free sulfur dioxide  total sulfur dioxide  density    pH  sulphates  \\\n",
       "0                 11.0                  34.0   0.9978  3.51       0.56   \n",
       "1                 25.0                  67.0   0.9968  3.20       0.68   \n",
       "2                 15.0                  54.0   0.9970  3.26       0.65   \n",
       "3                 17.0                  60.0   0.9980  3.16       0.58   \n",
       "4                 11.0                  34.0   0.9978  3.51       0.56   \n",
       "\n",
       "   alcohol  quality  \n",
       "0      9.4        5  \n",
       "1      9.8        5  \n",
       "2      9.8        5  \n",
       "3      9.8        6  \n",
       "4      9.4        5  "
      ]
     },
     "execution_count": 1,
     "metadata": {},
     "output_type": "execute_result"
    }
   ],
   "source": [
    "import calendar\n",
    "import numpy as np\n",
    "import pandas as pd\n",
    "import seaborn as sn\n",
    "import missingno as msno\n",
    "from datetime import datetime\n",
    "import matplotlib.pyplot as plt\n",
    "import warnings\n",
    "pd.options.mode.chained_assignment = None\n",
    "warnings.filterwarnings(\"ignore\", category=DeprecationWarning)\n",
    "\n",
    "wine_data = pd.read_csv(\"winequality-red.csv\", sep=\",\")\n",
    "wine_data.head()"
   ]
  },
  {
   "cell_type": "code",
   "execution_count": 2,
   "id": "8de6dcc7",
   "metadata": {},
   "outputs": [
    {
     "data": {
      "text/plain": [
       "(1599, 12)"
      ]
     },
     "execution_count": 2,
     "metadata": {},
     "output_type": "execute_result"
    }
   ],
   "source": [
    "wine_data.shape"
   ]
  },
  {
   "cell_type": "code",
   "execution_count": 3,
   "id": "95b3a001",
   "metadata": {},
   "outputs": [
    {
     "data": {
      "text/html": [
       "<div>\n",
       "<style scoped>\n",
       "    .dataframe tbody tr th:only-of-type {\n",
       "        vertical-align: middle;\n",
       "    }\n",
       "\n",
       "    .dataframe tbody tr th {\n",
       "        vertical-align: top;\n",
       "    }\n",
       "\n",
       "    .dataframe thead th {\n",
       "        text-align: right;\n",
       "    }\n",
       "</style>\n",
       "<table border=\"1\" class=\"dataframe\">\n",
       "  <thead>\n",
       "    <tr style=\"text-align: right;\">\n",
       "      <th></th>\n",
       "      <th>fixed acidity</th>\n",
       "      <th>volatile acidity</th>\n",
       "      <th>citric acid</th>\n",
       "      <th>residual sugar</th>\n",
       "      <th>chlorides</th>\n",
       "      <th>free sulfur dioxide</th>\n",
       "      <th>total sulfur dioxide</th>\n",
       "      <th>density</th>\n",
       "      <th>pH</th>\n",
       "      <th>sulphates</th>\n",
       "      <th>alcohol</th>\n",
       "      <th>quality</th>\n",
       "    </tr>\n",
       "  </thead>\n",
       "  <tbody>\n",
       "    <tr>\n",
       "      <th>count</th>\n",
       "      <td>1599.000000</td>\n",
       "      <td>1599.000000</td>\n",
       "      <td>1599.000000</td>\n",
       "      <td>1599.000000</td>\n",
       "      <td>1599.000000</td>\n",
       "      <td>1599.000000</td>\n",
       "      <td>1599.000000</td>\n",
       "      <td>1599.000000</td>\n",
       "      <td>1599.000000</td>\n",
       "      <td>1599.000000</td>\n",
       "      <td>1599.000000</td>\n",
       "      <td>1599.000000</td>\n",
       "    </tr>\n",
       "    <tr>\n",
       "      <th>mean</th>\n",
       "      <td>8.319637</td>\n",
       "      <td>0.527821</td>\n",
       "      <td>0.270976</td>\n",
       "      <td>2.538806</td>\n",
       "      <td>0.087467</td>\n",
       "      <td>15.874922</td>\n",
       "      <td>46.467792</td>\n",
       "      <td>0.996747</td>\n",
       "      <td>3.311113</td>\n",
       "      <td>0.658149</td>\n",
       "      <td>10.422983</td>\n",
       "      <td>5.636023</td>\n",
       "    </tr>\n",
       "    <tr>\n",
       "      <th>std</th>\n",
       "      <td>1.741096</td>\n",
       "      <td>0.179060</td>\n",
       "      <td>0.194801</td>\n",
       "      <td>1.409928</td>\n",
       "      <td>0.047065</td>\n",
       "      <td>10.460157</td>\n",
       "      <td>32.895324</td>\n",
       "      <td>0.001887</td>\n",
       "      <td>0.154386</td>\n",
       "      <td>0.169507</td>\n",
       "      <td>1.065668</td>\n",
       "      <td>0.807569</td>\n",
       "    </tr>\n",
       "    <tr>\n",
       "      <th>min</th>\n",
       "      <td>4.600000</td>\n",
       "      <td>0.120000</td>\n",
       "      <td>0.000000</td>\n",
       "      <td>0.900000</td>\n",
       "      <td>0.012000</td>\n",
       "      <td>1.000000</td>\n",
       "      <td>6.000000</td>\n",
       "      <td>0.990070</td>\n",
       "      <td>2.740000</td>\n",
       "      <td>0.330000</td>\n",
       "      <td>8.400000</td>\n",
       "      <td>3.000000</td>\n",
       "    </tr>\n",
       "    <tr>\n",
       "      <th>25%</th>\n",
       "      <td>7.100000</td>\n",
       "      <td>0.390000</td>\n",
       "      <td>0.090000</td>\n",
       "      <td>1.900000</td>\n",
       "      <td>0.070000</td>\n",
       "      <td>7.000000</td>\n",
       "      <td>22.000000</td>\n",
       "      <td>0.995600</td>\n",
       "      <td>3.210000</td>\n",
       "      <td>0.550000</td>\n",
       "      <td>9.500000</td>\n",
       "      <td>5.000000</td>\n",
       "    </tr>\n",
       "    <tr>\n",
       "      <th>50%</th>\n",
       "      <td>7.900000</td>\n",
       "      <td>0.520000</td>\n",
       "      <td>0.260000</td>\n",
       "      <td>2.200000</td>\n",
       "      <td>0.079000</td>\n",
       "      <td>14.000000</td>\n",
       "      <td>38.000000</td>\n",
       "      <td>0.996750</td>\n",
       "      <td>3.310000</td>\n",
       "      <td>0.620000</td>\n",
       "      <td>10.200000</td>\n",
       "      <td>6.000000</td>\n",
       "    </tr>\n",
       "    <tr>\n",
       "      <th>75%</th>\n",
       "      <td>9.200000</td>\n",
       "      <td>0.640000</td>\n",
       "      <td>0.420000</td>\n",
       "      <td>2.600000</td>\n",
       "      <td>0.090000</td>\n",
       "      <td>21.000000</td>\n",
       "      <td>62.000000</td>\n",
       "      <td>0.997835</td>\n",
       "      <td>3.400000</td>\n",
       "      <td>0.730000</td>\n",
       "      <td>11.100000</td>\n",
       "      <td>6.000000</td>\n",
       "    </tr>\n",
       "    <tr>\n",
       "      <th>max</th>\n",
       "      <td>15.900000</td>\n",
       "      <td>1.580000</td>\n",
       "      <td>1.000000</td>\n",
       "      <td>15.500000</td>\n",
       "      <td>0.611000</td>\n",
       "      <td>72.000000</td>\n",
       "      <td>289.000000</td>\n",
       "      <td>1.003690</td>\n",
       "      <td>4.010000</td>\n",
       "      <td>2.000000</td>\n",
       "      <td>14.900000</td>\n",
       "      <td>8.000000</td>\n",
       "    </tr>\n",
       "  </tbody>\n",
       "</table>\n",
       "</div>"
      ],
      "text/plain": [
       "       fixed acidity  volatile acidity  citric acid  residual sugar  \\\n",
       "count    1599.000000       1599.000000  1599.000000     1599.000000   \n",
       "mean        8.319637          0.527821     0.270976        2.538806   \n",
       "std         1.741096          0.179060     0.194801        1.409928   \n",
       "min         4.600000          0.120000     0.000000        0.900000   \n",
       "25%         7.100000          0.390000     0.090000        1.900000   \n",
       "50%         7.900000          0.520000     0.260000        2.200000   \n",
       "75%         9.200000          0.640000     0.420000        2.600000   \n",
       "max        15.900000          1.580000     1.000000       15.500000   \n",
       "\n",
       "         chlorides  free sulfur dioxide  total sulfur dioxide      density  \\\n",
       "count  1599.000000          1599.000000           1599.000000  1599.000000   \n",
       "mean      0.087467            15.874922             46.467792     0.996747   \n",
       "std       0.047065            10.460157             32.895324     0.001887   \n",
       "min       0.012000             1.000000              6.000000     0.990070   \n",
       "25%       0.070000             7.000000             22.000000     0.995600   \n",
       "50%       0.079000            14.000000             38.000000     0.996750   \n",
       "75%       0.090000            21.000000             62.000000     0.997835   \n",
       "max       0.611000            72.000000            289.000000     1.003690   \n",
       "\n",
       "                pH    sulphates      alcohol      quality  \n",
       "count  1599.000000  1599.000000  1599.000000  1599.000000  \n",
       "mean      3.311113     0.658149    10.422983     5.636023  \n",
       "std       0.154386     0.169507     1.065668     0.807569  \n",
       "min       2.740000     0.330000     8.400000     3.000000  \n",
       "25%       3.210000     0.550000     9.500000     5.000000  \n",
       "50%       3.310000     0.620000    10.200000     6.000000  \n",
       "75%       3.400000     0.730000    11.100000     6.000000  \n",
       "max       4.010000     2.000000    14.900000     8.000000  "
      ]
     },
     "execution_count": 3,
     "metadata": {},
     "output_type": "execute_result"
    }
   ],
   "source": [
    "wine_data.describe()"
   ]
  },
  {
   "cell_type": "markdown",
   "id": "05546ed7",
   "metadata": {},
   "source": [
    "### Data Preparation\n",
    "\n",
    "#### Explore the dataset further\n",
    "*TODO*\n",
    "<li>Check for missing values and handle if any</li>\n",
    "<li>Check for outliers if any and handle them</li>\n",
    "<li>Implement Correlation heatmap</li>\n",
    "<li>Check the distribution of data using histograms</li>\n",
    "<li>Prepare the data for modeling by carrying out any steps that you think are necessary</li>"
   ]
  },
  {
   "cell_type": "markdown",
   "id": "a1544a57",
   "metadata": {},
   "source": [
    "<li>Check for missing values and handle if any</li>\n",
    "From the graph below we notice there are no missing values for any features"
   ]
  },
  {
   "cell_type": "code",
   "execution_count": 4,
   "id": "77801c42",
   "metadata": {},
   "outputs": [
    {
     "data": {
      "text/plain": [
       "<AxesSubplot:>"
      ]
     },
     "execution_count": 4,
     "metadata": {},
     "output_type": "execute_result"
    },
    {
     "data": {
      "image/png": "[encoded data removed]",
      "text/plain": [
       "<Figure size 720x216 with 2 Axes>"
      ]
     },
     "metadata": {
      "needs_background": "light"
     },
     "output_type": "display_data"
    }
   ],
   "source": [
    "msno.matrix(wine_data,figsize=(10,3))\n"
   ]
  },
  {
   "cell_type": "markdown",
   "id": "1d297b8f",
   "metadata": {},
   "source": [
    "<li>Check for outliers if any and handle them</li>\n"
   ]
  },
  {
   "cell_type": "code",
   "execution_count": 5,
   "id": "6c3e45e0",
   "metadata": {},
   "outputs": [
    {
     "data": {
      "text/plain": [
       "<AxesSubplot:xlabel='pH', ylabel='quality'>"
      ]
     },
     "execution_count": 5,
     "metadata": {},
     "output_type": "execute_result"
    },
    {
     "data": {
      "image/png": "[encoded data removed]",
      "text/plain": [
       "<Figure size 720x2160 with 4 Axes>"
      ]
     },
     "metadata": {
      "needs_background": "light"
     },
     "output_type": "display_data"
    }
   ],
   "source": [
    "fig, axes = plt.subplots(nrows=4,ncols=1)\n",
    "fig.set_size_inches(10, 30)\n",
    "sn.boxplot(data=wine_data,orient=\"v\",ax=axes[0])\n",
    "sn.boxplot(data=wine_data,y=\"quality\",orient=\"v\",ax=axes[1])\n",
    "sn.boxplot(data=wine_data,y=\"quality\",x=\"residual sugar\",orient=\"v\",ax=axes[2])\n",
    "sn.boxplot(data=wine_data,y=\"quality\",x=\"pH\",orient=\"v\",ax=axes[3])"
   ]
  },
  {
   "cell_type": "markdown",
   "id": "1d5a2f09",
   "metadata": {},
   "source": [
    "<p>In the following cell we removed the outliers by finding the absolute value of the z-score for each column. This means we represent the values each cell as the number of standard deviation away from the mean for their respective features/columns. Then we filter out the cells with z-scores greater than threshold which I defined to be 3 since, by theory, most data points (99.8% of data points) must exist 3 standard deviations away from the mean. Thus, anything greater than this threshold must then be an outlier. </p>"
   ]
  },
  {
   "cell_type": "code",
   "execution_count": 6,
   "id": "9ba0e946",
   "metadata": {},
   "outputs": [
    {
     "name": "stdout",
     "output_type": "stream",
     "text": [
      "(1599, 12)\n"
     ]
    }
   ],
   "source": [
    "from scipy import stats\n",
    "import numpy as np\n",
    "\n",
    "z = np.abs(stats.zscore(wine_data))\n",
    "print(z.shape)\n",
    "# print(np.where(z > 3))\n",
    "# print(z[13][9])\n",
    "# print(z[55])\n",
    "\n"
   ]
  },
  {
   "cell_type": "code",
   "execution_count": 7,
   "id": "1f1b0169",
   "metadata": {},
   "outputs": [
    {
     "data": {
      "text/plain": [
       "(1451, 12)"
      ]
     },
     "execution_count": 7,
     "metadata": {},
     "output_type": "execute_result"
    }
   ],
   "source": [
    "threshold = 3\n",
    "wine_data = wine_data[(z < threshold).all(axis=1)]\n",
    "wine_data.shape"
   ]
  },
  {
   "cell_type": "markdown",
   "id": "2b423352",
   "metadata": {},
   "source": [
    "<li>Implement Correlation heatmap</li>"
   ]
  },
  {
   "cell_type": "code",
   "execution_count": 8,
   "id": "aaee5af2",
   "metadata": {},
   "outputs": [
    {
     "data": {
      "text/plain": [
       "<AxesSubplot:>"
      ]
     },
     "execution_count": 8,
     "metadata": {},
     "output_type": "execute_result"
    },
    {
     "data": {
      "image/png": "[encoded data removed]",
      "text/plain": [
       "<Figure size 1440x720 with 2 Axes>"
      ]
     },
     "metadata": {
      "needs_background": "light"
     },
     "output_type": "display_data"
    }
   ],
   "source": [
    "# Correlation analysis\n",
    "corrMatt = wine_data.corr()\n",
    "mask = np.array(corrMatt)\n",
    "mask[np.tril_indices_from(mask)] = False\n",
    "fig,ax= plt.subplots()\n",
    "fig.set_size_inches(20,10)\n",
    "sn.heatmap(corrMatt, mask=mask,vmax=.8, square=True,annot=True)"
   ]
  },
  {
   "cell_type": "markdown",
   "id": "f5c80767",
   "metadata": {},
   "source": [
    "<li>Check the distribution of data using histograms</li>"
   ]
  },
  {
   "cell_type": "code",
   "execution_count": 9,
   "id": "00966d03",
   "metadata": {},
   "outputs": [
    {
     "data": {
      "text/plain": [
       "array([[<AxesSubplot:title={'center':'fixed acidity'}>,\n",
       "        <AxesSubplot:title={'center':'volatile acidity'}>,\n",
       "        <AxesSubplot:title={'center':'citric acid'}>],\n",
       "       [<AxesSubplot:title={'center':'residual sugar'}>,\n",
       "        <AxesSubplot:title={'center':'chlorides'}>,\n",
       "        <AxesSubplot:title={'center':'free sulfur dioxide'}>],\n",
       "       [<AxesSubplot:title={'center':'total sulfur dioxide'}>,\n",
       "        <AxesSubplot:title={'center':'density'}>,\n",
       "        <AxesSubplot:title={'center':'pH'}>],\n",
       "       [<AxesSubplot:title={'center':'sulphates'}>,\n",
       "        <AxesSubplot:title={'center':'alcohol'}>,\n",
       "        <AxesSubplot:title={'center':'quality'}>]], dtype=object)"
      ]
     },
     "execution_count": 9,
     "metadata": {},
     "output_type": "execute_result"
    },
    {
     "data": {
      "image/png": "[encoded data removed]",
      "text/plain": [
       "<Figure size 864x576 with 12 Axes>"
      ]
     },
     "metadata": {
      "needs_background": "light"
     },
     "output_type": "display_data"
    }
   ],
   "source": [
    "wine_data.hist(['fixed acidity','volatile acidity',\t'citric acid', 'residual sugar', 'chlorides', 'free sulfur dioxide', 'total sulfur dioxide','density','pH','sulphates','alcohol','quality'], figsize=(12,8))"
   ]
  },
  {
   "cell_type": "markdown",
   "id": "e59d8dd8",
   "metadata": {},
   "source": [
    "### Modeling\n",
    "\n",
    "*TODO*\n",
    "<li>Implement Multivariable Linear Regression using any 2 Regression algorithms of your choice</li>\n",
    "\n",
    "<p>For this question, I will use Random Forest and SVM as my multivariable regression algorithms.</p>\n",
    "\n",
    "<li>Implement a Neural Network using Tensorflow and Keras to classify wine quality</li>"
   ]
  },
  {
   "cell_type": "code",
   "execution_count": 10,
   "id": "6ac6d3b6",
   "metadata": {},
   "outputs": [],
   "source": [
    "import pandas as pd\n",
    "from sklearn.model_selection import train_test_split\n",
    "from sklearn.model_selection import GridSearchCV\n",
    "from sklearn.svm import SVR\n",
    "from sklearn.ensemble import RandomForestRegressor\n",
    "from sklearn.preprocessing import StandardScaler, LabelEncoder\n",
    "\n",
    "import warnings\n",
    "warnings.filterwarnings('ignore', category=FutureWarning)\n",
    "warnings.filterwarnings('ignore', category=DeprecationWarning)\n",
    "\n",
    "features = wine_data.drop('quality', axis=1)\n",
    "labels = wine_data['quality']\n",
    "# labels.shape\n",
    "test_size = 0.2\n",
    "X_train, X_test, y_train, y_test = train_test_split(features, labels,test_size=test_size, random_state=1)\n",
    "\n"
   ]
  },
  {
   "cell_type": "code",
   "execution_count": 11,
   "id": "88b3e929",
   "metadata": {},
   "outputs": [],
   "source": [
    "sc = StandardScaler()\n",
    "\n",
    "X_train = sc.fit_transform(X_train)\n",
    "X_test = sc.fit_transform(X_test)"
   ]
  },
  {
   "cell_type": "code",
   "execution_count": 12,
   "id": "9e8a33ff",
   "metadata": {},
   "outputs": [
    {
     "data": {
      "text/plain": [
       "(1160, 11)"
      ]
     },
     "execution_count": 12,
     "metadata": {},
     "output_type": "execute_result"
    }
   ],
   "source": [
    "X_train.shape"
   ]
  },
  {
   "cell_type": "code",
   "execution_count": 13,
   "id": "702746be",
   "metadata": {},
   "outputs": [
    {
     "data": {
      "text/plain": [
       "(1160,)"
      ]
     },
     "execution_count": 13,
     "metadata": {},
     "output_type": "execute_result"
    }
   ],
   "source": [
    "y_train.shape"
   ]
  },
  {
   "cell_type": "code",
   "execution_count": 14,
   "id": "6036e5ab",
   "metadata": {},
   "outputs": [],
   "source": [
    "def print_results(results):\n",
    "    print('BEST PARAMS: {}\\n'.format(results.best_params_))\n",
    "\n",
    "    means = results.cv_results_['mean_test_score']\n",
    "    stds = results.cv_results_['std_test_score']\n",
    "    for mean, std, params in zip(means, stds, results.cv_results_['params']):\n",
    "        print('{} (+/-{}) for {}'.format(round(mean, 3), round(std * 2, 3), params))"
   ]
  },
  {
   "cell_type": "markdown",
   "id": "caf442e6",
   "metadata": {},
   "source": [
    "### Multiple Linear Regression: Support Vector Machine"
   ]
  },
  {
   "cell_type": "code",
   "execution_count": 15,
   "id": "2ab16833",
   "metadata": {},
   "outputs": [
    {
     "name": "stdout",
     "output_type": "stream",
     "text": [
      "BEST PARAMS: {'C': 1, 'kernel': 'rbf'}\n",
      "\n",
      "0.378 (+/-0.079) for {'C': 0.1, 'kernel': 'rbf'}\n",
      "0.414 (+/-0.104) for {'C': 1, 'kernel': 'rbf'}\n",
      "0.306 (+/-0.112) for {'C': 10, 'kernel': 'rbf'}\n"
     ]
    }
   ],
   "source": [
    "svc = SVR()\n",
    "parameters = {\n",
    "    'kernel': ['rbf'],\n",
    "    'C': [0.1, 1, 10]\n",
    "}\n",
    "\n",
    "cv = GridSearchCV(svc, parameters, cv=5)\n",
    "cv.fit(X_train, y_train.values.ravel())\n",
    "\n",
    "print_results(cv)"
   ]
  },
  {
   "cell_type": "code",
   "execution_count": 16,
   "id": "b3a63b1e",
   "metadata": {},
   "outputs": [],
   "source": [
    "best_svc = cv.best_estimator_"
   ]
  },
  {
   "cell_type": "code",
   "execution_count": 17,
   "id": "acd6d129",
   "metadata": {},
   "outputs": [],
   "source": [
    "y_pred_svc = best_svc.predict(X_test)\n"
   ]
  },
  {
   "cell_type": "code",
   "execution_count": 18,
   "id": "7a1b8393",
   "metadata": {},
   "outputs": [
    {
     "data": {
      "text/plain": [
       "291"
      ]
     },
     "execution_count": 18,
     "metadata": {},
     "output_type": "execute_result"
    }
   ],
   "source": [
    "len(y_pred_svc)"
   ]
  },
  {
   "cell_type": "markdown",
   "id": "c9c731e1",
   "metadata": {},
   "source": [
    "### Multiple Linear Regression: Random Forest"
   ]
  },
  {
   "cell_type": "code",
   "execution_count": 19,
   "id": "2cce1085",
   "metadata": {},
   "outputs": [
    {
     "name": "stdout",
     "output_type": "stream",
     "text": [
      "BEST PARAMS: {'max_depth': 32, 'n_estimators': 250}\n",
      "\n",
      "0.286 (+/-0.135) for {'max_depth': 2, 'n_estimators': 5}\n",
      "0.312 (+/-0.107) for {'max_depth': 2, 'n_estimators': 50}\n",
      "0.313 (+/-0.101) for {'max_depth': 2, 'n_estimators': 250}\n",
      "0.368 (+/-0.127) for {'max_depth': 4, 'n_estimators': 5}\n",
      "0.383 (+/-0.145) for {'max_depth': 4, 'n_estimators': 50}\n",
      "0.389 (+/-0.144) for {'max_depth': 4, 'n_estimators': 250}\n",
      "0.363 (+/-0.189) for {'max_depth': 8, 'n_estimators': 5}\n",
      "0.452 (+/-0.196) for {'max_depth': 8, 'n_estimators': 50}\n",
      "0.457 (+/-0.196) for {'max_depth': 8, 'n_estimators': 250}\n",
      "0.376 (+/-0.268) for {'max_depth': 16, 'n_estimators': 5}\n",
      "0.468 (+/-0.22) for {'max_depth': 16, 'n_estimators': 50}\n",
      "0.486 (+/-0.226) for {'max_depth': 16, 'n_estimators': 250}\n",
      "0.375 (+/-0.274) for {'max_depth': 32, 'n_estimators': 5}\n",
      "0.483 (+/-0.212) for {'max_depth': 32, 'n_estimators': 50}\n",
      "0.49 (+/-0.218) for {'max_depth': 32, 'n_estimators': 250}\n",
      "0.358 (+/-0.241) for {'max_depth': None, 'n_estimators': 5}\n",
      "0.478 (+/-0.224) for {'max_depth': None, 'n_estimators': 50}\n",
      "0.486 (+/-0.23) for {'max_depth': None, 'n_estimators': 250}\n"
     ]
    }
   ],
   "source": [
    "rf = RandomForestRegressor()\n",
    "parameters = {\n",
    "    'n_estimators': [5, 50, 250],\n",
    "    'max_depth': [2, 4, 8, 16, 32, None]\n",
    "}\n",
    "\n",
    "cv = GridSearchCV(rf, parameters, cv=10)\n",
    "cv.fit(X_train, y_train)\n",
    "\n",
    "print_results(cv)"
   ]
  },
  {
   "cell_type": "code",
   "execution_count": 20,
   "id": "69990a92",
   "metadata": {},
   "outputs": [
    {
     "data": {
      "text/html": [
       "<style>#sk-container-id-1 {color: black;background-color: white;}#sk-container-id-1 pre{padding: 0;}#sk-container-id-1 div.sk-toggleable {background-color: white;}#sk-container-id-1 label.sk-toggleable__label {cursor: pointer;display: block;width: 100%;margin-bottom: 0;padding: 0.3em;box-sizing: border-box;text-align: center;}#sk-container-id-1 label.sk-toggleable__label-arrow:before {content: \"▸\";float: left;margin-right: 0.25em;color: #696969;}#sk-container-id-1 label.sk-toggleable__label-arrow:hover:before {color: black;}#sk-container-id-1 div.sk-estimator:hover label.sk-toggleable__label-arrow:before {color: black;}#sk-container-id-1 div.sk-toggleable__content {max-height: 0;max-width: 0;overflow: hidden;text-align: left;background-color: #f0f8ff;}#sk-container-id-1 div.sk-toggleable__content pre {margin: 0.2em;color: black;border-radius: 0.25em;background-color: #f0f8ff;}#sk-container-id-1 input.sk-toggleable__control:checked~div.sk-toggleable__content {max-height: 200px;max-width: 100%;overflow: auto;}#sk-container-id-1 input.sk-toggleable__control:checked~label.sk-toggleable__label-arrow:before {content: \"▾\";}#sk-container-id-1 div.sk-estimator input.sk-toggleable__control:checked~label.sk-toggleable__label {background-color: #d4ebff;}#sk-container-id-1 div.sk-label input.sk-toggleable__control:checked~label.sk-toggleable__label {background-color: #d4ebff;}#sk-container-id-1 input.sk-hidden--visually {border: 0;clip: rect(1px 1px 1px 1px);clip: rect(1px, 1px, 1px, 1px);height: 1px;margin: -1px;overflow: hidden;padding: 0;position: absolute;width: 1px;}#sk-container-id-1 div.sk-estimator {font-family: monospace;background-color: #f0f8ff;border: 1px dotted black;border-radius: 0.25em;box-sizing: border-box;margin-bottom: 0.5em;}#sk-container-id-1 div.sk-estimator:hover {background-color: #d4ebff;}#sk-container-id-1 div.sk-parallel-item::after {content: \"\";width: 100%;border-bottom: 1px solid gray;flex-grow: 1;}#sk-container-id-1 div.sk-label:hover label.sk-toggleable__label {background-color: #d4ebff;}#sk-container-id-1 div.sk-serial::before {content: \"\";position: absolute;border-left: 1px solid gray;box-sizing: border-box;top: 0;bottom: 0;left: 50%;z-index: 0;}#sk-container-id-1 div.sk-serial {display: flex;flex-direction: column;align-items: center;background-color: white;padding-right: 0.2em;padding-left: 0.2em;position: relative;}#sk-container-id-1 div.sk-item {position: relative;z-index: 1;}#sk-container-id-1 div.sk-parallel {display: flex;align-items: stretch;justify-content: center;background-color: white;position: relative;}#sk-container-id-1 div.sk-item::before, #sk-container-id-1 div.sk-parallel-item::before {content: \"\";position: absolute;border-left: 1px solid gray;box-sizing: border-box;top: 0;bottom: 0;left: 50%;z-index: -1;}#sk-container-id-1 div.sk-parallel-item {display: flex;flex-direction: column;z-index: 1;position: relative;background-color: white;}#sk-container-id-1 div.sk-parallel-item:first-child::after {align-self: flex-end;width: 50%;}#sk-container-id-1 div.sk-parallel-item:last-child::after {align-self: flex-start;width: 50%;}#sk-container-id-1 div.sk-parallel-item:only-child::after {width: 0;}#sk-container-id-1 div.sk-dashed-wrapped {border: 1px dashed gray;margin: 0 0.4em 0.5em 0.4em;box-sizing: border-box;padding-bottom: 0.4em;background-color: white;}#sk-container-id-1 div.sk-label label {font-family: monospace;font-weight: bold;display: inline-block;line-height: 1.2em;}#sk-container-id-1 div.sk-label-container {text-align: center;}#sk-container-id-1 div.sk-container {/* jupyter's `normalize.less` sets `[hidden] { display: none; }` but bootstrap.min.css set `[hidden] { display: none !important; }` so we also need the `!important` here to be able to override the default hidden behavior on the sphinx rendered scikit-learn.org. See: https://github.com/scikit-learn/scikit-learn/issues/21755 */display: inline-block !important;position: relative;}#sk-container-id-1 div.sk-text-repr-fallback {display: none;}</style><div id=\"sk-container-id-1\" class=\"sk-top-container\"><div class=\"sk-text-repr-fallback\"><pre>RandomForestRegressor(max_depth=16, n_estimators=250, random_state=1)</pre><b>In a Jupyter environment, please rerun this cell to show the HTML representation or trust the notebook. <br />On GitHub, the HTML representation is unable to render, please try loading this page with nbviewer.org.</b></div><div class=\"sk-container\" hidden><div class=\"sk-item\"><div class=\"sk-estimator sk-toggleable\"><input class=\"sk-toggleable__control sk-hidden--visually\" id=\"sk-estimator-id-1\" type=\"checkbox\" checked><label for=\"sk-estimator-id-1\" class=\"sk-toggleable__label sk-toggleable__label-arrow\">RandomForestRegressor</label><div class=\"sk-toggleable__content\"><pre>RandomForestRegressor(max_depth=16, n_estimators=250, random_state=1)</pre></div></div></div></div></div>"
      ],
      "text/plain": [
       "RandomForestRegressor(max_depth=16, n_estimators=250, random_state=1)"
      ]
     },
     "execution_count": 20,
     "metadata": {},
     "output_type": "execute_result"
    }
   ],
   "source": [
    "rf = RandomForestRegressor(random_state=1, max_depth=16, n_estimators=250)\n",
    "rf.fit(X_train, y_train)"
   ]
  },
  {
   "cell_type": "code",
   "execution_count": 21,
   "id": "216c5741",
   "metadata": {},
   "outputs": [],
   "source": [
    "y_pred_rf = rf.predict(X_test)"
   ]
  },
  {
   "cell_type": "code",
   "execution_count": 22,
   "id": "310c9384",
   "metadata": {},
   "outputs": [
    {
     "data": {
      "text/plain": [
       "291"
      ]
     },
     "execution_count": 22,
     "metadata": {},
     "output_type": "execute_result"
    }
   ],
   "source": [
    "len(y_pred_rf)"
   ]
  },
  {
   "cell_type": "markdown",
   "id": "b125dfd4",
   "metadata": {},
   "source": [
    "#### As a slight detour, let's also generate a figure showing the most important features for the Random Forest to see which features we should include in creating an NN."
   ]
  },
  {
   "cell_type": "code",
   "execution_count": 23,
   "metadata": {},
   "outputs": [
    {
     "data": {
      "text/plain": [
       "array([0.04197691, 0.10182017, 0.06032171, 0.05195373, 0.06338062,\n",
       "       0.03991618, 0.08013138, 0.04856052, 0.0586216 , 0.14883862,\n",
       "       0.30447857])"
      ]
     },
     "metadata": {},
     "output_type": "display_data"
    }
   ],
   "source": [
    "rf_temp = RandomForestRegressor(random_state=1, max_depth=12)\n",
    "x = wine_data.drop(['quality'] , axis = 1)\n",
    "temp_wine_data = pd.get_dummies(wine_data)\n",
    "rf_temp.fit(features, wine_data['quality'])\n",
    "display(rf_temp.feature_importances_)"
   ]
  },
  {
   "cell_type": "code",
   "execution_count": 24,
   "id": "d716bcc0",
   "metadata": {},
   "outputs": [
    {
     "data": {
      "image/png": "[encoded data removed]",
      "text/plain": [
       "<Figure size 432x288 with 1 Axes>"
      ]
     },
     "metadata": {
      "needs_background": "light"
     },
     "output_type": "display_data"
    }
   ],
   "source": [
    "features = temp_wine_data.columns\n",
    "importances = rf_temp.feature_importances_\n",
    "indices = np.argsort(importances)[:]\n",
    "plt.title('Feature Importances')\n",
    "plt.barh(range(len(indices)), importances[indices])\n",
    "plt.yticks(range(len(indices)), [features[i] for i in indices])\n",
    "plt.xlabel('Importance')\n",
    "plt.show()"
   ]
  },
  {
   "cell_type": "markdown",
   "id": "cd636fe7",
   "metadata": {},
   "source": [
    "### Note: We will use the features with the lowest importance as indicated in the figure above. More specifically, density, fixed acidity, and free sulfur dioxide."
   ]
  },
  {
   "cell_type": "markdown",
   "id": "c94fb53f",
   "metadata": {},
   "source": [
    "## Artificial Neural Network"
   ]
  },
  {
   "cell_type": "markdown",
   "id": "87011e13",
   "metadata": {},
   "source": [
    "### Let's start fresh by importing the wine data again"
   ]
  },
  {
   "cell_type": "code",
   "execution_count": 25,
   "id": "563d513a",
   "metadata": {},
   "outputs": [
    {
     "data": {
      "text/html": [
       "<div>\n",
       "<style scoped>\n",
       "    .dataframe tbody tr th:only-of-type {\n",
       "        vertical-align: middle;\n",
       "    }\n",
       "\n",
       "    .dataframe tbody tr th {\n",
       "        vertical-align: top;\n",
       "    }\n",
       "\n",
       "    .dataframe thead th {\n",
       "        text-align: right;\n",
       "    }\n",
       "</style>\n",
       "<table border=\"1\" class=\"dataframe\">\n",
       "  <thead>\n",
       "    <tr style=\"text-align: right;\">\n",
       "      <th></th>\n",
       "      <th>fixed acidity</th>\n",
       "      <th>volatile acidity</th>\n",
       "      <th>citric acid</th>\n",
       "      <th>residual sugar</th>\n",
       "      <th>chlorides</th>\n",
       "      <th>free sulfur dioxide</th>\n",
       "      <th>total sulfur dioxide</th>\n",
       "      <th>density</th>\n",
       "      <th>pH</th>\n",
       "      <th>sulphates</th>\n",
       "      <th>alcohol</th>\n",
       "      <th>quality</th>\n",
       "    </tr>\n",
       "  </thead>\n",
       "  <tbody>\n",
       "    <tr>\n",
       "      <th>0</th>\n",
       "      <td>7.4</td>\n",
       "      <td>0.70</td>\n",
       "      <td>0.00</td>\n",
       "      <td>1.9</td>\n",
       "      <td>0.076</td>\n",
       "      <td>11.0</td>\n",
       "      <td>34.0</td>\n",
       "      <td>0.9978</td>\n",
       "      <td>3.51</td>\n",
       "      <td>0.56</td>\n",
       "      <td>9.4</td>\n",
       "      <td>5</td>\n",
       "    </tr>\n",
       "    <tr>\n",
       "      <th>1</th>\n",
       "      <td>7.8</td>\n",
       "      <td>0.88</td>\n",
       "      <td>0.00</td>\n",
       "      <td>2.6</td>\n",
       "      <td>0.098</td>\n",
       "      <td>25.0</td>\n",
       "      <td>67.0</td>\n",
       "      <td>0.9968</td>\n",
       "      <td>3.20</td>\n",
       "      <td>0.68</td>\n",
       "      <td>9.8</td>\n",
       "      <td>5</td>\n",
       "    </tr>\n",
       "    <tr>\n",
       "      <th>2</th>\n",
       "      <td>7.8</td>\n",
       "      <td>0.76</td>\n",
       "      <td>0.04</td>\n",
       "      <td>2.3</td>\n",
       "      <td>0.092</td>\n",
       "      <td>15.0</td>\n",
       "      <td>54.0</td>\n",
       "      <td>0.9970</td>\n",
       "      <td>3.26</td>\n",
       "      <td>0.65</td>\n",
       "      <td>9.8</td>\n",
       "      <td>5</td>\n",
       "    </tr>\n",
       "    <tr>\n",
       "      <th>3</th>\n",
       "      <td>11.2</td>\n",
       "      <td>0.28</td>\n",
       "      <td>0.56</td>\n",
       "      <td>1.9</td>\n",
       "      <td>0.075</td>\n",
       "      <td>17.0</td>\n",
       "      <td>60.0</td>\n",
       "      <td>0.9980</td>\n",
       "      <td>3.16</td>\n",
       "      <td>0.58</td>\n",
       "      <td>9.8</td>\n",
       "      <td>6</td>\n",
       "    </tr>\n",
       "    <tr>\n",
       "      <th>4</th>\n",
       "      <td>7.4</td>\n",
       "      <td>0.70</td>\n",
       "      <td>0.00</td>\n",
       "      <td>1.9</td>\n",
       "      <td>0.076</td>\n",
       "      <td>11.0</td>\n",
       "      <td>34.0</td>\n",
       "      <td>0.9978</td>\n",
       "      <td>3.51</td>\n",
       "      <td>0.56</td>\n",
       "      <td>9.4</td>\n",
       "      <td>5</td>\n",
       "    </tr>\n",
       "  </tbody>\n",
       "</table>\n",
       "</div>"
      ],
      "text/plain": [
       "   fixed acidity  volatile acidity  citric acid  residual sugar  chlorides  \\\n",
       "0            7.4              0.70         0.00             1.9      0.076   \n",
       "1            7.8              0.88         0.00             2.6      0.098   \n",
       "2            7.8              0.76         0.04             2.3      0.092   \n",
       "3           11.2              0.28         0.56             1.9      0.075   \n",
       "4            7.4              0.70         0.00             1.9      0.076   \n",
       "\n",
       "   free sulfur dioxide  total sulfur dioxide  density    pH  sulphates  \\\n",
       "0                 11.0                  34.0   0.9978  3.51       0.56   \n",
       "1                 25.0                  67.0   0.9968  3.20       0.68   \n",
       "2                 15.0                  54.0   0.9970  3.26       0.65   \n",
       "3                 17.0                  60.0   0.9980  3.16       0.58   \n",
       "4                 11.0                  34.0   0.9978  3.51       0.56   \n",
       "\n",
       "   alcohol  quality  \n",
       "0      9.4        5  \n",
       "1      9.8        5  \n",
       "2      9.8        5  \n",
       "3      9.8        6  \n",
       "4      9.4        5  "
      ]
     },
     "execution_count": 25,
     "metadata": {},
     "output_type": "execute_result"
    }
   ],
   "source": [
    "import pandas as pd\n",
    "import numpy as np\n",
    "import tensorflow as tf\n",
    "from keras.models import Sequential\n",
    "from keras.layers import Dense\n",
    "import matplotlib.pyplot as plt\n",
    "import seaborn as sb\n",
    "from sklearn.preprocessing import StandardScaler, LabelEncoder\n",
    "\n",
    "wine_data = pd.read_csv(\"winequality-red.csv\", sep=\",\")\n",
    "wine_data.head()"
   ]
  },
  {
   "cell_type": "markdown",
   "id": "f660cab9",
   "metadata": {},
   "source": [
    "#### We remove the outliers"
   ]
  },
  {
   "cell_type": "code",
   "execution_count": 26,
   "id": "d231ca4d",
   "metadata": {},
   "outputs": [
    {
     "name": "stdout",
     "output_type": "stream",
     "text": [
      "(1599, 12)\n"
     ]
    }
   ],
   "source": [
    "from scipy import stats\n",
    "import numpy as np\n",
    "\n",
    "z = np.abs(stats.zscore(wine_data))\n",
    "print(z.shape)"
   ]
  },
  {
   "cell_type": "code",
   "execution_count": 27,
   "id": "ed1df209",
   "metadata": {},
   "outputs": [
    {
     "data": {
      "text/plain": [
       "(1451, 12)"
      ]
     },
     "execution_count": 27,
     "metadata": {},
     "output_type": "execute_result"
    }
   ],
   "source": [
    "threshold = 3\n",
    "wine_data = wine_data[(z < threshold).all(axis=1)]\n",
    "wine_data.shape"
   ]
  },
  {
   "cell_type": "markdown",
   "id": "83432c79",
   "metadata": {},
   "source": [
    "### Here we introduce a new column indicating what is good quality wine and what is not."
   ]
  },
  {
   "cell_type": "code",
   "execution_count": 28,
   "id": "e82c447c",
   "metadata": {},
   "outputs": [],
   "source": [
    "wine_data['goodquality'] = [1 if x >= 7 else 0 for x in wine_data['quality']]\n",
    "\n",
    "X = wine_data.drop(['quality','goodquality'], axis = 1)\n",
    "\n",
    "y = wine_data['goodquality']"
   ]
  },
  {
   "cell_type": "markdown",
   "id": "de73fffc",
   "metadata": {},
   "source": [
    "#### NOTE: Here I will use the least significant factors based on the importance features of the Random Forest. This does not in any way mean that the Neural Network will best predict the quality of wine when these factors are used."
   ]
  },
  {
   "cell_type": "code",
   "execution_count": 29,
   "id": "cee24665",
   "metadata": {},
   "outputs": [],
   "source": [
    "del X['fixed acidity']\n",
    "del X['free sulfur dioxide']\n",
    "del X['citric acid']"
   ]
  },
  {
   "cell_type": "code",
   "execution_count": 30,
   "id": "b353b788",
   "metadata": {},
   "outputs": [
    {
     "name": "stdout",
     "output_type": "stream",
     "text": [
      "Counter({0: 1250, 1: 201})\n"
     ]
    }
   ],
   "source": [
    "from collections import Counter\n",
    "print(Counter(y))"
   ]
  },
  {
   "cell_type": "markdown",
   "id": "1120a235",
   "metadata": {},
   "source": [
    "#### Notice that the minority classes in the data is too under-represented from the counter shown above. This is important to address because having a massive imbalance between majority and minority classes can introduce a bias towards the majority classes. To address this problem I will bring in an over-sampling tool called SMOTE. This will allow us to create more balance within our data by specifying certain parameters like the sampling strategy which allows us to map a certain number of data points corresponding to each class label. This will allow each class to have the same amount of data points for each class ridding the data of the severe imbalance it once had earlier. Note: the sample size I decided on was based on trial and error, the provided sample size is simply the one that seemed to give me the best results."
   ]
  },
  {
   "cell_type": "code",
   "execution_count": 31,
   "id": "2acb552c",
   "metadata": {},
   "outputs": [
    {
     "name": "stderr",
     "output_type": "stream",
     "text": [
      "C:\\Users\\Francis Dave\\AppData\\Roaming\\Python\\Python39\\site-packages\\imblearn\\utils\\_validation.py:299: UserWarning: After over-sampling, the number of samples (1700) in class 0 will be larger than the number of samples in the majority class (class #0 -> 1250)\n",
      "  warnings.warn(\n",
      "C:\\Users\\Francis Dave\\AppData\\Roaming\\Python\\Python39\\site-packages\\imblearn\\utils\\_validation.py:299: UserWarning: After over-sampling, the number of samples (1700) in class 1 will be larger than the number of samples in the majority class (class #0 -> 1250)\n",
      "  warnings.warn(\n"
     ]
    }
   ],
   "source": [
    "from imblearn.over_sampling import SMOTE\n",
    "\n",
    "sample_size = 1700\n",
    "oversample = SMOTE(sampling_strategy={0: sample_size, 1: sample_size})\n",
    "X, y = oversample.fit_resample(X, y)"
   ]
  },
  {
   "cell_type": "code",
   "execution_count": 32,
   "id": "b8507e49",
   "metadata": {},
   "outputs": [],
   "source": [
    "# Splitting the data\n",
    "from sklearn.model_selection import train_test_split\n",
    "X_train_nn, X_test_nn, y_train_nn, y_test_nn = train_test_split(X, y, test_size=.3, random_state=0)"
   ]
  },
  {
   "cell_type": "code",
   "execution_count": 33,
   "id": "05a06147",
   "metadata": {},
   "outputs": [],
   "source": [
    "# Normalize feature variables\n",
    "from sklearn.preprocessing import StandardScaler\n",
    "sc = StandardScaler()\n",
    "\n",
    "X_train_nn = sc.fit_transform(X_train_nn)\n",
    "X_test_nn = sc.fit_transform(X_test_nn)"
   ]
  },
  {
   "cell_type": "code",
   "execution_count": 34,
   "id": "629fabb5",
   "metadata": {},
   "outputs": [],
   "source": [
    "n_classes = 2 # because we only have 6 categories\n",
    "y_train_cat = tf.keras.utils.to_categorical(y_train_nn, n_classes)\n",
    "y_test_cat = tf.keras.utils.to_categorical(y_test_nn, n_classes)"
   ]
  },
  {
   "cell_type": "code",
   "execution_count": 35,
   "id": "744dac31",
   "metadata": {},
   "outputs": [],
   "source": [
    "model = Sequential()\n",
    "model.add(Dense(16, activation='relu', input_shape=(8,)))\n",
    "model.add(Dense(12, activation='relu'))\n",
    "model.add(Dense(2, activation='sigmoid'))"
   ]
  },
  {
   "cell_type": "code",
   "execution_count": 36,
   "id": "3bf97e05",
   "metadata": {},
   "outputs": [],
   "source": [
    "model.compile(loss =\"binary_crossentropy\", optimizer = 'adam', metrics= ['accuracy'])"
   ]
  },
  {
   "cell_type": "code",
   "execution_count": 37,
   "id": "98aca456",
   "metadata": {},
   "outputs": [
    {
     "name": "stdout",
     "output_type": "stream",
     "text": [
      "Epoch 1/100\n",
      "38/38 [==============================] - 1s 4ms/step - loss: 0.6276 - accuracy: 0.7122 - val_loss: 0.5834 - val_accuracy: 0.7637\n",
      "Epoch 2/100\n",
      "38/38 [==============================] - 0s 2ms/step - loss: 0.5516 - accuracy: 0.7685 - val_loss: 0.5058 - val_accuracy: 0.8029\n",
      "Epoch 3/100\n",
      "38/38 [==============================] - 0s 1ms/step - loss: 0.4787 - accuracy: 0.8076 - val_loss: 0.4390 - val_accuracy: 0.8265\n",
      "Epoch 4/100\n",
      "38/38 [==============================] - 0s 2ms/step - loss: 0.4227 - accuracy: 0.8307 - val_loss: 0.3968 - val_accuracy: 0.8275\n",
      "Epoch 5/100\n",
      "38/38 [==============================] - 0s 1ms/step - loss: 0.3926 - accuracy: 0.8345 - val_loss: 0.3757 - val_accuracy: 0.8382\n",
      "Epoch 6/100\n",
      "38/38 [==============================] - 0s 1ms/step - loss: 0.3785 - accuracy: 0.8374 - val_loss: 0.3663 - val_accuracy: 0.8382\n",
      "Epoch 7/100\n",
      "38/38 [==============================] - 0s 1ms/step - loss: 0.3714 - accuracy: 0.8408 - val_loss: 0.3594 - val_accuracy: 0.8412\n",
      "Epoch 8/100\n",
      "38/38 [==============================] - 0s 1ms/step - loss: 0.3662 - accuracy: 0.8454 - val_loss: 0.3565 - val_accuracy: 0.8431\n",
      "Epoch 9/100\n",
      "38/38 [==============================] - 0s 1ms/step - loss: 0.3616 - accuracy: 0.8517 - val_loss: 0.3535 - val_accuracy: 0.8549\n",
      "Epoch 10/100\n",
      "38/38 [==============================] - 0s 1ms/step - loss: 0.3581 - accuracy: 0.8508 - val_loss: 0.3496 - val_accuracy: 0.8500\n",
      "Epoch 11/100\n",
      "38/38 [==============================] - 0s 1ms/step - loss: 0.3541 - accuracy: 0.8550 - val_loss: 0.3475 - val_accuracy: 0.8559\n",
      "Epoch 12/100\n",
      "38/38 [==============================] - 0s 1ms/step - loss: 0.3501 - accuracy: 0.8559 - val_loss: 0.3431 - val_accuracy: 0.8578\n",
      "Epoch 13/100\n",
      "38/38 [==============================] - 0s 2ms/step - loss: 0.3470 - accuracy: 0.8588 - val_loss: 0.3390 - val_accuracy: 0.8608\n",
      "Epoch 14/100\n",
      "38/38 [==============================] - 0s 1ms/step - loss: 0.3443 - accuracy: 0.8576 - val_loss: 0.3385 - val_accuracy: 0.8588\n",
      "Epoch 15/100\n",
      "38/38 [==============================] - 0s 1ms/step - loss: 0.3411 - accuracy: 0.8630 - val_loss: 0.3353 - val_accuracy: 0.8598\n",
      "Epoch 16/100\n",
      "38/38 [==============================] - 0s 1ms/step - loss: 0.3384 - accuracy: 0.8592 - val_loss: 0.3346 - val_accuracy: 0.8578\n",
      "Epoch 17/100\n",
      "38/38 [==============================] - 0s 1ms/step - loss: 0.3355 - accuracy: 0.8609 - val_loss: 0.3331 - val_accuracy: 0.8598\n",
      "Epoch 18/100\n",
      "38/38 [==============================] - 0s 1ms/step - loss: 0.3335 - accuracy: 0.8613 - val_loss: 0.3302 - val_accuracy: 0.8637\n",
      "Epoch 19/100\n",
      "38/38 [==============================] - 0s 1ms/step - loss: 0.3305 - accuracy: 0.8597 - val_loss: 0.3289 - val_accuracy: 0.8627\n",
      "Epoch 20/100\n",
      "38/38 [==============================] - 0s 1ms/step - loss: 0.3286 - accuracy: 0.8639 - val_loss: 0.3261 - val_accuracy: 0.8676\n",
      "Epoch 21/100\n",
      "38/38 [==============================] - 0s 1ms/step - loss: 0.3267 - accuracy: 0.8634 - val_loss: 0.3243 - val_accuracy: 0.8637\n",
      "Epoch 22/100\n",
      "38/38 [==============================] - 0s 1ms/step - loss: 0.3241 - accuracy: 0.8664 - val_loss: 0.3230 - val_accuracy: 0.8647\n",
      "Epoch 23/100\n",
      "38/38 [==============================] - 0s 1ms/step - loss: 0.3221 - accuracy: 0.8706 - val_loss: 0.3208 - val_accuracy: 0.8725\n",
      "Epoch 24/100\n",
      "38/38 [==============================] - 0s 1ms/step - loss: 0.3197 - accuracy: 0.8706 - val_loss: 0.3201 - val_accuracy: 0.8657\n",
      "Epoch 25/100\n",
      "38/38 [==============================] - 0s 1ms/step - loss: 0.3180 - accuracy: 0.8710 - val_loss: 0.3182 - val_accuracy: 0.8706\n",
      "Epoch 26/100\n",
      "38/38 [==============================] - 0s 1ms/step - loss: 0.3161 - accuracy: 0.8739 - val_loss: 0.3198 - val_accuracy: 0.8657\n",
      "Epoch 27/100\n",
      "38/38 [==============================] - 0s 1ms/step - loss: 0.3144 - accuracy: 0.8714 - val_loss: 0.3176 - val_accuracy: 0.8676\n",
      "Epoch 28/100\n",
      "38/38 [==============================] - 0s 1ms/step - loss: 0.3128 - accuracy: 0.8748 - val_loss: 0.3155 - val_accuracy: 0.8696\n",
      "Epoch 29/100\n",
      "38/38 [==============================] - 0s 1ms/step - loss: 0.3100 - accuracy: 0.8765 - val_loss: 0.3144 - val_accuracy: 0.8706\n",
      "Epoch 30/100\n",
      "38/38 [==============================] - 0s 1ms/step - loss: 0.3086 - accuracy: 0.8765 - val_loss: 0.3119 - val_accuracy: 0.8716\n",
      "Epoch 31/100\n",
      "38/38 [==============================] - 0s 1ms/step - loss: 0.3072 - accuracy: 0.8735 - val_loss: 0.3093 - val_accuracy: 0.8735\n",
      "Epoch 32/100\n",
      "38/38 [==============================] - 0s 1ms/step - loss: 0.3060 - accuracy: 0.8752 - val_loss: 0.3088 - val_accuracy: 0.8735\n",
      "Epoch 33/100\n",
      "38/38 [==============================] - 0s 1ms/step - loss: 0.3040 - accuracy: 0.8773 - val_loss: 0.3068 - val_accuracy: 0.8755\n",
      "Epoch 34/100\n",
      "38/38 [==============================] - 0s 1ms/step - loss: 0.3023 - accuracy: 0.8773 - val_loss: 0.3064 - val_accuracy: 0.8765\n",
      "Epoch 35/100\n",
      "38/38 [==============================] - 0s 1ms/step - loss: 0.3007 - accuracy: 0.8773 - val_loss: 0.3038 - val_accuracy: 0.8804\n",
      "Epoch 36/100\n",
      "38/38 [==============================] - 0s 1ms/step - loss: 0.2992 - accuracy: 0.8782 - val_loss: 0.3030 - val_accuracy: 0.8824\n",
      "Epoch 37/100\n",
      "38/38 [==============================] - 0s 1ms/step - loss: 0.2974 - accuracy: 0.8790 - val_loss: 0.3039 - val_accuracy: 0.8794\n",
      "Epoch 38/100\n",
      "38/38 [==============================] - 0s 1ms/step - loss: 0.2956 - accuracy: 0.8811 - val_loss: 0.3022 - val_accuracy: 0.8833\n",
      "Epoch 39/100\n",
      "38/38 [==============================] - 0s 1ms/step - loss: 0.2940 - accuracy: 0.8798 - val_loss: 0.2997 - val_accuracy: 0.8824\n",
      "Epoch 40/100\n",
      "38/38 [==============================] - 0s 1ms/step - loss: 0.2920 - accuracy: 0.8832 - val_loss: 0.2965 - val_accuracy: 0.8824\n",
      "Epoch 41/100\n",
      "38/38 [==============================] - 0s 1ms/step - loss: 0.2914 - accuracy: 0.8798 - val_loss: 0.2945 - val_accuracy: 0.8843\n",
      "Epoch 42/100\n",
      "38/38 [==============================] - 0s 1ms/step - loss: 0.2896 - accuracy: 0.8853 - val_loss: 0.2949 - val_accuracy: 0.8833\n",
      "Epoch 43/100\n",
      "38/38 [==============================] - 0s 2ms/step - loss: 0.2882 - accuracy: 0.8803 - val_loss: 0.2925 - val_accuracy: 0.8833\n",
      "Epoch 44/100\n",
      "38/38 [==============================] - 0s 2ms/step - loss: 0.2858 - accuracy: 0.8815 - val_loss: 0.2946 - val_accuracy: 0.8814\n",
      "Epoch 45/100\n",
      "38/38 [==============================] - 0s 1ms/step - loss: 0.2848 - accuracy: 0.8840 - val_loss: 0.2889 - val_accuracy: 0.8824\n",
      "Epoch 46/100\n",
      "38/38 [==============================] - 0s 1ms/step - loss: 0.2821 - accuracy: 0.8861 - val_loss: 0.2884 - val_accuracy: 0.8843\n",
      "Epoch 47/100\n",
      "38/38 [==============================] - 0s 2ms/step - loss: 0.2806 - accuracy: 0.8861 - val_loss: 0.2872 - val_accuracy: 0.8804\n",
      "Epoch 48/100\n",
      "38/38 [==============================] - 0s 1ms/step - loss: 0.2798 - accuracy: 0.8887 - val_loss: 0.2900 - val_accuracy: 0.8853\n",
      "Epoch 49/100\n",
      "38/38 [==============================] - 0s 2ms/step - loss: 0.2782 - accuracy: 0.8874 - val_loss: 0.2857 - val_accuracy: 0.8824\n",
      "Epoch 50/100\n",
      "38/38 [==============================] - 0s 2ms/step - loss: 0.2764 - accuracy: 0.8895 - val_loss: 0.2858 - val_accuracy: 0.8863\n",
      "Epoch 51/100\n",
      "38/38 [==============================] - 0s 1ms/step - loss: 0.2740 - accuracy: 0.8899 - val_loss: 0.2808 - val_accuracy: 0.8902\n",
      "Epoch 52/100\n",
      "38/38 [==============================] - 0s 1ms/step - loss: 0.2732 - accuracy: 0.8903 - val_loss: 0.2804 - val_accuracy: 0.8882\n",
      "Epoch 53/100\n",
      "38/38 [==============================] - 0s 1ms/step - loss: 0.2711 - accuracy: 0.8912 - val_loss: 0.2804 - val_accuracy: 0.8863\n",
      "Epoch 54/100\n",
      "38/38 [==============================] - 0s 1ms/step - loss: 0.2693 - accuracy: 0.8924 - val_loss: 0.2803 - val_accuracy: 0.8863\n",
      "Epoch 55/100\n",
      "38/38 [==============================] - 0s 1ms/step - loss: 0.2682 - accuracy: 0.8937 - val_loss: 0.2767 - val_accuracy: 0.8853\n",
      "Epoch 56/100\n",
      "38/38 [==============================] - 0s 1ms/step - loss: 0.2669 - accuracy: 0.8945 - val_loss: 0.2785 - val_accuracy: 0.8863\n",
      "Epoch 57/100\n",
      "38/38 [==============================] - 0s 1ms/step - loss: 0.2662 - accuracy: 0.8916 - val_loss: 0.2822 - val_accuracy: 0.8902\n",
      "Epoch 58/100\n",
      "38/38 [==============================] - 0s 1ms/step - loss: 0.2643 - accuracy: 0.8929 - val_loss: 0.2734 - val_accuracy: 0.8931\n",
      "Epoch 59/100\n",
      "38/38 [==============================] - 0s 1ms/step - loss: 0.2625 - accuracy: 0.8962 - val_loss: 0.2778 - val_accuracy: 0.8980\n",
      "Epoch 60/100\n",
      "38/38 [==============================] - 0s 1ms/step - loss: 0.2624 - accuracy: 0.8975 - val_loss: 0.2747 - val_accuracy: 0.9010\n",
      "Epoch 61/100\n",
      "38/38 [==============================] - 0s 1ms/step - loss: 0.2602 - accuracy: 0.8962 - val_loss: 0.2755 - val_accuracy: 0.9000\n",
      "Epoch 62/100\n",
      "38/38 [==============================] - 0s 1ms/step - loss: 0.2600 - accuracy: 0.8992 - val_loss: 0.2728 - val_accuracy: 0.9010\n",
      "Epoch 63/100\n",
      "38/38 [==============================] - 0s 1ms/step - loss: 0.2577 - accuracy: 0.8987 - val_loss: 0.2717 - val_accuracy: 0.9000\n",
      "Epoch 64/100\n",
      "38/38 [==============================] - 0s 1ms/step - loss: 0.2564 - accuracy: 0.8992 - val_loss: 0.2701 - val_accuracy: 0.9049\n",
      "Epoch 65/100\n",
      "38/38 [==============================] - 0s 1ms/step - loss: 0.2557 - accuracy: 0.9017 - val_loss: 0.2739 - val_accuracy: 0.9000\n",
      "Epoch 66/100\n",
      "38/38 [==============================] - 0s 1ms/step - loss: 0.2534 - accuracy: 0.9021 - val_loss: 0.2702 - val_accuracy: 0.9039\n",
      "Epoch 67/100\n",
      "38/38 [==============================] - 0s 1ms/step - loss: 0.2517 - accuracy: 0.9008 - val_loss: 0.2733 - val_accuracy: 0.9000\n",
      "Epoch 68/100\n",
      "38/38 [==============================] - 0s 1ms/step - loss: 0.2522 - accuracy: 0.9029 - val_loss: 0.2679 - val_accuracy: 0.9020\n",
      "Epoch 69/100\n",
      "38/38 [==============================] - 0s 1ms/step - loss: 0.2493 - accuracy: 0.9013 - val_loss: 0.2683 - val_accuracy: 0.9069\n",
      "Epoch 70/100\n",
      "38/38 [==============================] - 0s 2ms/step - loss: 0.2486 - accuracy: 0.9034 - val_loss: 0.2707 - val_accuracy: 0.9029\n",
      "Epoch 71/100\n",
      "38/38 [==============================] - 0s 2ms/step - loss: 0.2482 - accuracy: 0.9034 - val_loss: 0.2682 - val_accuracy: 0.9020\n",
      "Epoch 72/100\n",
      "38/38 [==============================] - 0s 1ms/step - loss: 0.2459 - accuracy: 0.9034 - val_loss: 0.2659 - val_accuracy: 0.9069\n",
      "Epoch 73/100\n",
      "38/38 [==============================] - 0s 1ms/step - loss: 0.2452 - accuracy: 0.9063 - val_loss: 0.2674 - val_accuracy: 0.9059\n",
      "Epoch 74/100\n",
      "38/38 [==============================] - 0s 1ms/step - loss: 0.2441 - accuracy: 0.9059 - val_loss: 0.2732 - val_accuracy: 0.9049\n",
      "Epoch 75/100\n",
      "38/38 [==============================] - 0s 1ms/step - loss: 0.2433 - accuracy: 0.9067 - val_loss: 0.2655 - val_accuracy: 0.9078\n",
      "Epoch 76/100\n",
      "38/38 [==============================] - 0s 1ms/step - loss: 0.2412 - accuracy: 0.9088 - val_loss: 0.2667 - val_accuracy: 0.9049\n",
      "Epoch 77/100\n",
      "38/38 [==============================] - 0s 2ms/step - loss: 0.2408 - accuracy: 0.9097 - val_loss: 0.2643 - val_accuracy: 0.9059\n",
      "Epoch 78/100\n",
      "38/38 [==============================] - 0s 1ms/step - loss: 0.2401 - accuracy: 0.9067 - val_loss: 0.2641 - val_accuracy: 0.9049\n",
      "Epoch 79/100\n",
      "38/38 [==============================] - 0s 1ms/step - loss: 0.2384 - accuracy: 0.9130 - val_loss: 0.2652 - val_accuracy: 0.9039\n",
      "Epoch 80/100\n",
      "38/38 [==============================] - 0s 1ms/step - loss: 0.2377 - accuracy: 0.9092 - val_loss: 0.2632 - val_accuracy: 0.9078\n",
      "Epoch 81/100\n",
      "38/38 [==============================] - 0s 1ms/step - loss: 0.2378 - accuracy: 0.9130 - val_loss: 0.2630 - val_accuracy: 0.9039\n",
      "Epoch 82/100\n",
      "38/38 [==============================] - 0s 1ms/step - loss: 0.2386 - accuracy: 0.9105 - val_loss: 0.2699 - val_accuracy: 0.9098\n",
      "Epoch 83/100\n",
      "38/38 [==============================] - 0s 1ms/step - loss: 0.2348 - accuracy: 0.9143 - val_loss: 0.2659 - val_accuracy: 0.9108\n",
      "Epoch 84/100\n",
      "38/38 [==============================] - 0s 1ms/step - loss: 0.2343 - accuracy: 0.9134 - val_loss: 0.2623 - val_accuracy: 0.9108\n",
      "Epoch 85/100\n",
      "38/38 [==============================] - 0s 1ms/step - loss: 0.2334 - accuracy: 0.9139 - val_loss: 0.2654 - val_accuracy: 0.9098\n",
      "Epoch 86/100\n",
      "38/38 [==============================] - 0s 1ms/step - loss: 0.2317 - accuracy: 0.9143 - val_loss: 0.2633 - val_accuracy: 0.9118\n",
      "Epoch 87/100\n",
      "38/38 [==============================] - 0s 1ms/step - loss: 0.2311 - accuracy: 0.9147 - val_loss: 0.2633 - val_accuracy: 0.9118\n",
      "Epoch 88/100\n",
      "38/38 [==============================] - 0s 1ms/step - loss: 0.2303 - accuracy: 0.9151 - val_loss: 0.2642 - val_accuracy: 0.9118\n",
      "Epoch 89/100\n",
      "38/38 [==============================] - 0s 1ms/step - loss: 0.2290 - accuracy: 0.9139 - val_loss: 0.2617 - val_accuracy: 0.9127\n",
      "Epoch 90/100\n",
      "38/38 [==============================] - 0s 1ms/step - loss: 0.2282 - accuracy: 0.9168 - val_loss: 0.2615 - val_accuracy: 0.9127\n",
      "Epoch 91/100\n",
      "38/38 [==============================] - 0s 1ms/step - loss: 0.2275 - accuracy: 0.9172 - val_loss: 0.2599 - val_accuracy: 0.9127\n",
      "Epoch 92/100\n",
      "38/38 [==============================] - 0s 1ms/step - loss: 0.2269 - accuracy: 0.9155 - val_loss: 0.2609 - val_accuracy: 0.9127\n",
      "Epoch 93/100\n",
      "38/38 [==============================] - 0s 1ms/step - loss: 0.2267 - accuracy: 0.9139 - val_loss: 0.2649 - val_accuracy: 0.9108\n",
      "Epoch 94/100\n",
      "38/38 [==============================] - 0s 1ms/step - loss: 0.2258 - accuracy: 0.9176 - val_loss: 0.2612 - val_accuracy: 0.9127\n",
      "Epoch 95/100\n",
      "38/38 [==============================] - 0s 1ms/step - loss: 0.2246 - accuracy: 0.9185 - val_loss: 0.2614 - val_accuracy: 0.9127\n",
      "Epoch 96/100\n",
      "38/38 [==============================] - 0s 1ms/step - loss: 0.2266 - accuracy: 0.9172 - val_loss: 0.2630 - val_accuracy: 0.9118\n",
      "Epoch 97/100\n",
      "38/38 [==============================] - 0s 1ms/step - loss: 0.2241 - accuracy: 0.9168 - val_loss: 0.2625 - val_accuracy: 0.9127\n",
      "Epoch 98/100\n",
      "38/38 [==============================] - 0s 1ms/step - loss: 0.2241 - accuracy: 0.9189 - val_loss: 0.2641 - val_accuracy: 0.9108\n",
      "Epoch 99/100\n",
      "38/38 [==============================] - 0s 1ms/step - loss: 0.2222 - accuracy: 0.9176 - val_loss: 0.2612 - val_accuracy: 0.9127\n",
      "Epoch 100/100\n",
      "38/38 [==============================] - 0s 1ms/step - loss: 0.2209 - accuracy: 0.9189 - val_loss: 0.2556 - val_accuracy: 0.9137\n"
     ]
    }
   ],
   "source": [
    "history = history = model.fit(X_train_nn, y_train_cat,  batch_size=64, epochs = 100 , validation_data = (X_test_nn, y_test_cat))"
   ]
  },
  {
   "cell_type": "code",
   "execution_count": 38,
   "id": "0f9738f0",
   "metadata": {},
   "outputs": [],
   "source": [
    "y_pred_nn = model.predict(X_test_nn)"
   ]
  },
  {
   "cell_type": "code",
   "execution_count": 39,
   "id": "87f618e3",
   "metadata": {},
   "outputs": [
    {
     "data": {
      "text/plain": [
       "array([[8.8504338e-01, 1.0548067e-01],\n",
       "       [9.1196102e-01, 8.9711726e-02],\n",
       "       [3.0934533e-01, 7.2396475e-01],\n",
       "       ...,\n",
       "       [3.2267851e-01, 5.9539199e-01],\n",
       "       [9.9992228e-01, 1.6078353e-04],\n",
       "       [4.1131735e-02, 9.5889521e-01]], dtype=float32)"
      ]
     },
     "execution_count": 39,
     "metadata": {},
     "output_type": "execute_result"
    }
   ],
   "source": [
    "y_pred_nn"
   ]
  },
  {
   "cell_type": "markdown",
   "id": "3b68a874",
   "metadata": {},
   "source": [
    "### Model Evaluation\n",
    "\n",
    "Evaluating the model accuracy is an essential part of the process in creating machine learning models to describe how well the model is performing in its predictions. Evaluation metrics change according to the problem type. Here, we'll briefly learn how to check the accuracy of the regression model.\n",
    "\n",
    "The linear model (regression) can be a typical example of this type of problem, and the main characteristic of the regression problem is that the targets of a dataset contain the real numbers only. The errors represent how much the model is making mistakes in its prediction. The basic concept of accuracy evaluation is to compare the original target with the predicted one according to certain metrics.\n",
    "\n",
    "\n",
    "**Regression model evaluation metrics**\n",
    "\n",
    "The MAE, RMSE, and R-Squared metrics are mainly used to evaluate the prediction error rates and model performance in regression analysis.\n",
    "\n",
    "**MAE (Mean absolute error)** represents the difference between the original and predicted values extracted by averaged the absolute difference over the data set.\n",
    "\n",
    "**RMSE (Root Mean Squared Error)** is the error rate by the square root of MSE.\n",
    "\n",
    "**R-squared (Coefficient of determination)** represents the coefficient of how well the values fit compared to the original values. The value from 0 to 1 interpreted as percentages. The higher the value is, the better the model is.\n",
    "\n",
    "The above metrics can be expressed as following:\n",
    "<img src = \"https://4.bp.blogspot.com/-wG7IbjTfE6k/XGUvqm7TCVI/AAAAAAAAAZU/vpH1kuKTIooKTcVlnm1EVRCXLVZM9cPNgCLcBGAs/s1600/formula-MAE-MSE-RMSE-RSquared.JPG\">\n",
    "\n",
    "Please find more information on how to implement them from this link: https://scikit-learn.org/stable/modules/classes.html#regression-metrics\n",
    "\n",
    "Find more about feature importances from here: https://machinelearningmastery.com/calculate-feature-importance-with-python/\n",
    "\n",
    "**Classification model evaluation metrics**\n",
    "\n",
    "<img src=\"https://www.researchgate.net/publication/336402347/figure/fig3/AS:812472659349505@1570719985505/Calculation-of-Precision-Recall-and-Accuracy-in-the-confusion-matrix.ppm\">"
   ]
  },
  {
   "cell_type": "markdown",
   "id": "0cc9ec55",
   "metadata": {},
   "source": [
    "*TODO*\n",
    "**For Regression models**\n",
    "<li>Use three metrics: R-squared, RMSE, and MAE, to evaluate model prediction performance</li>\n",
    "<li>Compare these 3 metrics for the two models and analyze the performance</li>\n",
    "<li>Calculate the feature importance scores for the top features that help predicting wine quality and visualize them</li>"
   ]
  },
  {
   "cell_type": "markdown",
   "id": "8d02cbe3",
   "metadata": {},
   "source": [
    "### Support Vector Machine Metrics"
   ]
  },
  {
   "cell_type": "code",
   "execution_count": 40,
   "id": "6989dd19",
   "metadata": {},
   "outputs": [],
   "source": [
    "# R Squared\n",
    "def r_squared(y_test, y_pred):\n",
    "    y_mean = np.mean(y_test)\n",
    "    y_sum_predicted = np.sum((y_test - y_pred)**2)\n",
    "    y_sum_mean = np.sum((y_test - y_mean)**2)\n",
    "    r_squared = 1 - (y_sum_predicted / y_sum_mean)\n",
    "    return r_squared"
   ]
  },
  {
   "cell_type": "code",
   "execution_count": 41,
   "id": "d94dfa1c",
   "metadata": {},
   "outputs": [
    {
     "data": {
      "text/plain": [
       "1330    6\n",
       "597     6\n",
       "1203    5\n",
       "664     5\n",
       "47      5\n",
       "       ..\n",
       "320     7\n",
       "1537    6\n",
       "158     5\n",
       "890     5\n",
       "1568    5\n",
       "Name: quality, Length: 291, dtype: int64"
      ]
     },
     "execution_count": 41,
     "metadata": {},
     "output_type": "execute_result"
    }
   ],
   "source": [
    "y_test"
   ]
  },
  {
   "cell_type": "code",
   "execution_count": 42,
   "id": "717c8af6",
   "metadata": {},
   "outputs": [
    {
     "name": "stdout",
     "output_type": "stream",
     "text": [
      "SVM MAE: 0.6755846853836197\n",
      "SVM RMSE: 0.4005205516629632\n",
      "SVM R-Squared: 0.28737906384478307\n"
     ]
    }
   ],
   "source": [
    "from sklearn.metrics import mean_squared_error, mean_absolute_error\n",
    "# import numpy as np\n",
    "\n",
    "print(\"SVM MAE: {}\".format(np.sqrt(mean_absolute_error(y_test, y_pred_svc))))\n",
    "print(\"SVM RMSE: {}\".format(mean_squared_error(y_test, y_pred_svc)))\n",
    "print(\"SVM R-Squared: {}\".format(r_squared(y_test, y_pred_svc)))\n"
   ]
  },
  {
   "cell_type": "code",
   "execution_count": 43,
   "id": "d94465f8",
   "metadata": {},
   "outputs": [
    {
     "data": {
      "text/plain": [
       "Text(0.5, 0, 'Relative Importance')"
      ]
     },
     "execution_count": 43,
     "metadata": {},
     "output_type": "execute_result"
    },
    {
     "data": {
      "image/png": "[encoded data removed]",
      "text/plain": [
       "<Figure size 432x288 with 1 Axes>"
      ]
     },
     "metadata": {
      "needs_background": "light"
     },
     "output_type": "display_data"
    }
   ],
   "source": [
    "from sklearn.inspection import permutation_importance\n",
    "import numpy as np\n",
    "import matplotlib.pyplot as plt\n",
    "\n",
    "perm_importance = permutation_importance(best_svc, X_test, y_test)\n",
    "\n",
    "feature_names = wine_data.columns\n",
    "features = np.array(feature_names)\n",
    "\n",
    "sorted_idx = perm_importance.importances_mean.argsort()\n",
    "plt.barh(features[sorted_idx], perm_importance.importances_mean[sorted_idx])\n",
    "plt.xlabel(\"Relative Importance\")"
   ]
  },
  {
   "cell_type": "code",
   "execution_count": 44,
   "id": "17443afc",
   "metadata": {},
   "outputs": [
    {
     "data": {
      "text/plain": [
       "numpy.ndarray"
      ]
     },
     "execution_count": 44,
     "metadata": {},
     "output_type": "execute_result"
    }
   ],
   "source": [
    "type(np.array(wine_data.columns))"
   ]
  },
  {
   "cell_type": "markdown",
   "id": "5e1532a5",
   "metadata": {},
   "source": [
    "### Random Forest Metrics"
   ]
  },
  {
   "cell_type": "code",
   "execution_count": 45,
   "id": "81508916",
   "metadata": {},
   "outputs": [
    {
     "name": "stdout",
     "output_type": "stream",
     "text": [
      "Random Forest MAE: 0.6696847889940567\n",
      "Random Forest RMSE: 0.3662317697582037\n",
      "Random Forest R-Squared: 0.3483869291319398\n"
     ]
    }
   ],
   "source": [
    "print(\"Random Forest MAE: {}\".format(np.sqrt(mean_absolute_error(y_test, y_pred_rf))))\n",
    "print(\"Random Forest RMSE: {}\".format(mean_squared_error(y_test, y_pred_rf)))\n",
    "print(\"Random Forest R-Squared: {}\".format(r_squared(y_test, y_pred_rf)))"
   ]
  },
  {
   "cell_type": "code",
   "execution_count": 46,
   "id": "628d50e3",
   "metadata": {},
   "outputs": [
    {
     "data": {
      "text/plain": [
       "array([0.04448698, 0.10032957, 0.05740936, 0.05181234, 0.06323481,\n",
       "       0.03880475, 0.07802551, 0.05315627, 0.0585526 , 0.14515765,\n",
       "       0.30903018])"
      ]
     },
     "metadata": {},
     "output_type": "display_data"
    },
    {
     "data": {
      "image/png": "[encoded data removed]",
      "text/plain": [
       "<Figure size 432x288 with 1 Axes>"
      ]
     },
     "metadata": {
      "needs_background": "light"
     },
     "output_type": "display_data"
    }
   ],
   "source": [
    "temp_wine_data = pd.get_dummies(wine_data)\n",
    "display(rf.feature_importances_)\n",
    "\n",
    "features = temp_wine_data.columns\n",
    "importances = rf_temp.feature_importances_\n",
    "indices = np.argsort(importances)[:]\n",
    "plt.title('Feature Importances')\n",
    "plt.barh(range(len(indices)), importances[indices])\n",
    "plt.yticks(range(len(indices)), [features[i] for i in indices])\n",
    "plt.xlabel('Importance')\n",
    "plt.show()"
   ]
  },
  {
   "cell_type": "markdown",
   "id": "cf9da0f7",
   "metadata": {},
   "source": [
    "#### Performance Comparison:\n",
    "Based on the three metrics calculated for both RF and SVM, there seems to little difference between the metrics of RMSE and MAE between the two models. However, RF seems to perform better in the R-squared metric than the SVM. Thus, out of the 2 models, the RF model does better, but not by much."
   ]
  },
  {
   "cell_type": "code",
   "execution_count": 47,
   "id": "48fd8e32",
   "metadata": {},
   "outputs": [
    {
     "data": {
      "text/plain": [
       "Index(['fixed acidity', 'volatile acidity', 'citric acid', 'residual sugar',\n",
       "       'chlorides', 'free sulfur dioxide', 'total sulfur dioxide', 'density',\n",
       "       'pH', 'sulphates', 'alcohol', 'quality', 'goodquality'],\n",
       "      dtype='object')"
      ]
     },
     "execution_count": 47,
     "metadata": {},
     "output_type": "execute_result"
    }
   ],
   "source": [
    "features"
   ]
  },
  {
   "cell_type": "markdown",
   "id": "58dfbe5c",
   "metadata": {},
   "source": [
    "**For Classification model**\n",
    "<li> Plot training loss and validation loss </li>\n",
    "<li> Plot training accuracy and validation accuracy </li>\n",
    "<li> Evaluate the classsification model using Precision, Recall and Accuracy metrics </li>"
   ]
  },
  {
   "cell_type": "markdown",
   "id": "a6c02ffd",
   "metadata": {},
   "source": [
    "#### Training Loss and Validation Loss (where loss is expressed in MAE)"
   ]
  },
  {
   "cell_type": "code",
   "execution_count": 48,
   "id": "76b08091",
   "metadata": {},
   "outputs": [
    {
     "data": {
      "image/png": "[encoded data removed]",
      "text/plain": [
       "<Figure size 432x288 with 1 Axes>"
      ]
     },
     "metadata": {
      "needs_background": "light"
     },
     "output_type": "display_data"
    }
   ],
   "source": [
    "plt.plot(history.history['loss'], label='MAE training data')\n",
    "plt.plot(history.history['val_loss'], label='MAE validation data')\n",
    "plt.legend()\n",
    "plt.title('MAE for model')\n",
    "plt.ylabel('MAE')\n",
    "plt.xlabel('epoch')\n",
    "plt.show()"
   ]
  },
  {
   "cell_type": "markdown",
   "id": "c150a634",
   "metadata": {},
   "source": [
    "#### Training Accuracy and Validation Accuracy"
   ]
  },
  {
   "cell_type": "code",
   "execution_count": 49,
   "id": "b53ff156",
   "metadata": {},
   "outputs": [
    {
     "data": {
      "image/png": "[encoded data removed]",
      "text/plain": [
       "<Figure size 432x288 with 1 Axes>"
      ]
     },
     "metadata": {
      "needs_background": "light"
     },
     "output_type": "display_data"
    }
   ],
   "source": [
    "plt.plot(history.history['accuracy'], label='Accuracy training data')\n",
    "plt.plot(history.history['val_accuracy'], label='Accuracy validation data')\n",
    "plt.legend()\n",
    "plt.title('Model accuracy')\n",
    "plt.ylabel('Accuracy')\n",
    "plt.xlabel('epoch')\n",
    "plt.show()"
   ]
  },
  {
   "cell_type": "markdown",
   "id": "e03f08ad",
   "metadata": {},
   "source": [
    "#### Accuracy, Precision, and Recall"
   ]
  },
  {
   "cell_type": "code",
   "execution_count": 50,
   "id": "c54635c1",
   "metadata": {},
   "outputs": [
    {
     "data": {
      "text/plain": [
       "1020"
      ]
     },
     "execution_count": 50,
     "metadata": {},
     "output_type": "execute_result"
    }
   ],
   "source": [
    "discrete_y_pred_nn = []\n",
    "\n",
    "for e in y_pred_nn:\n",
    "    discrete_y_pred_nn.append(np.argmax(e))\n",
    "\n",
    "len(discrete_y_pred_nn)"
   ]
  },
  {
   "cell_type": "code",
   "execution_count": 51,
   "id": "3ece77d0",
   "metadata": {},
   "outputs": [
    {
     "name": "stdout",
     "output_type": "stream",
     "text": [
      "accuracy: 0.914\n",
      "precision: 0.916\n",
      "recall: 0.915\n"
     ]
    }
   ],
   "source": [
    "from sklearn.metrics import accuracy_score, precision_score, recall_score\n",
    "\n",
    "accuracy = round(accuracy_score(y_test_nn, discrete_y_pred_nn), 3)\n",
    "precision = round(precision_score(y_test_nn, discrete_y_pred_nn, average='macro'), 3)\n",
    "recall = round(recall_score(y_test_nn, discrete_y_pred_nn, average='macro'), 3)\n",
    "\n",
    "print(\"accuracy: {}\".format(accuracy))\n",
    "print(\"precision: {}\".format(precision))\n",
    "print(\"recall: {}\".format(recall))"
   ]
  },
  {
   "cell_type": "markdown",
   "id": "cc93c002",
   "metadata": {},
   "source": [
    "### Conclusion\n",
    "\n",
    "*TODO*\n",
    "\n",
    "In conclusion, based on the features derived from the Random Forest Regression Model, the most important feature seems to be alcohol, suphates, and volatile acidity. Whereas, the least important features seem to be free sulfur dioxide, fixed acidity, and density. On the otherhand, the most important features dictated by the SVM models seem to alcohol, volatile, acidity and suphates. Whereas, the least important are chlorides, pH, and free sulfur dioxide. Since, the same set of features are indicated as the most important by both models, we can say that the most important factors in wine creation are alcohol, suphates, and the volatile acidity. With regards to the least important aspects that must be removed or minimize, I suggest that we remove free sulfur dioxide since it appears as the least important feature in both results from both models. Furthermore, there doesn't seem to be any noticeable improvement in the loss or accuracy of the test and validation data of the Classification Neural Network based on the removal of the least important features from either models. To see the loss and accuracy figures of the Neural Net from the removal of the least important features from SVM, please go to the next section."
   ]
  },
  {
   "cell_type": "markdown",
   "id": "e52afb53",
   "metadata": {},
   "source": [
    "## Extra Section: Results from Removing Features indicated in the SVM model."
   ]
  },
  {
   "cell_type": "code",
   "execution_count": 52,
   "id": "09bfb453",
   "metadata": {},
   "outputs": [
    {
     "data": {
      "text/html": [
       "<div>\n",
       "<style scoped>\n",
       "    .dataframe tbody tr th:only-of-type {\n",
       "        vertical-align: middle;\n",
       "    }\n",
       "\n",
       "    .dataframe tbody tr th {\n",
       "        vertical-align: top;\n",
       "    }\n",
       "\n",
       "    .dataframe thead th {\n",
       "        text-align: right;\n",
       "    }\n",
       "</style>\n",
       "<table border=\"1\" class=\"dataframe\">\n",
       "  <thead>\n",
       "    <tr style=\"text-align: right;\">\n",
       "      <th></th>\n",
       "      <th>fixed acidity</th>\n",
       "      <th>volatile acidity</th>\n",
       "      <th>citric acid</th>\n",
       "      <th>residual sugar</th>\n",
       "      <th>chlorides</th>\n",
       "      <th>free sulfur dioxide</th>\n",
       "      <th>total sulfur dioxide</th>\n",
       "      <th>density</th>\n",
       "      <th>pH</th>\n",
       "      <th>sulphates</th>\n",
       "      <th>alcohol</th>\n",
       "      <th>quality</th>\n",
       "    </tr>\n",
       "  </thead>\n",
       "  <tbody>\n",
       "    <tr>\n",
       "      <th>0</th>\n",
       "      <td>7.4</td>\n",
       "      <td>0.70</td>\n",
       "      <td>0.00</td>\n",
       "      <td>1.9</td>\n",
       "      <td>0.076</td>\n",
       "      <td>11.0</td>\n",
       "      <td>34.0</td>\n",
       "      <td>0.9978</td>\n",
       "      <td>3.51</td>\n",
       "      <td>0.56</td>\n",
       "      <td>9.4</td>\n",
       "      <td>5</td>\n",
       "    </tr>\n",
       "    <tr>\n",
       "      <th>1</th>\n",
       "      <td>7.8</td>\n",
       "      <td>0.88</td>\n",
       "      <td>0.00</td>\n",
       "      <td>2.6</td>\n",
       "      <td>0.098</td>\n",
       "      <td>25.0</td>\n",
       "      <td>67.0</td>\n",
       "      <td>0.9968</td>\n",
       "      <td>3.20</td>\n",
       "      <td>0.68</td>\n",
       "      <td>9.8</td>\n",
       "      <td>5</td>\n",
       "    </tr>\n",
       "    <tr>\n",
       "      <th>2</th>\n",
       "      <td>7.8</td>\n",
       "      <td>0.76</td>\n",
       "      <td>0.04</td>\n",
       "      <td>2.3</td>\n",
       "      <td>0.092</td>\n",
       "      <td>15.0</td>\n",
       "      <td>54.0</td>\n",
       "      <td>0.9970</td>\n",
       "      <td>3.26</td>\n",
       "      <td>0.65</td>\n",
       "      <td>9.8</td>\n",
       "      <td>5</td>\n",
       "    </tr>\n",
       "    <tr>\n",
       "      <th>3</th>\n",
       "      <td>11.2</td>\n",
       "      <td>0.28</td>\n",
       "      <td>0.56</td>\n",
       "      <td>1.9</td>\n",
       "      <td>0.075</td>\n",
       "      <td>17.0</td>\n",
       "      <td>60.0</td>\n",
       "      <td>0.9980</td>\n",
       "      <td>3.16</td>\n",
       "      <td>0.58</td>\n",
       "      <td>9.8</td>\n",
       "      <td>6</td>\n",
       "    </tr>\n",
       "    <tr>\n",
       "      <th>4</th>\n",
       "      <td>7.4</td>\n",
       "      <td>0.70</td>\n",
       "      <td>0.00</td>\n",
       "      <td>1.9</td>\n",
       "      <td>0.076</td>\n",
       "      <td>11.0</td>\n",
       "      <td>34.0</td>\n",
       "      <td>0.9978</td>\n",
       "      <td>3.51</td>\n",
       "      <td>0.56</td>\n",
       "      <td>9.4</td>\n",
       "      <td>5</td>\n",
       "    </tr>\n",
       "  </tbody>\n",
       "</table>\n",
       "</div>"
      ],
      "text/plain": [
       "   fixed acidity  volatile acidity  citric acid  residual sugar  chlorides  \\\n",
       "0            7.4              0.70         0.00             1.9      0.076   \n",
       "1            7.8              0.88         0.00             2.6      0.098   \n",
       "2            7.8              0.76         0.04             2.3      0.092   \n",
       "3           11.2              0.28         0.56             1.9      0.075   \n",
       "4            7.4              0.70         0.00             1.9      0.076   \n",
       "\n",
       "   free sulfur dioxide  total sulfur dioxide  density    pH  sulphates  \\\n",
       "0                 11.0                  34.0   0.9978  3.51       0.56   \n",
       "1                 25.0                  67.0   0.9968  3.20       0.68   \n",
       "2                 15.0                  54.0   0.9970  3.26       0.65   \n",
       "3                 17.0                  60.0   0.9980  3.16       0.58   \n",
       "4                 11.0                  34.0   0.9978  3.51       0.56   \n",
       "\n",
       "   alcohol  quality  \n",
       "0      9.4        5  \n",
       "1      9.8        5  \n",
       "2      9.8        5  \n",
       "3      9.8        6  \n",
       "4      9.4        5  "
      ]
     },
     "execution_count": 52,
     "metadata": {},
     "output_type": "execute_result"
    }
   ],
   "source": [
    "wine_data = pd.read_csv(\"winequality-red.csv\", sep=\",\")\n",
    "wine_data.head()"
   ]
  },
  {
   "cell_type": "code",
   "execution_count": 53,
   "id": "bc17e455",
   "metadata": {},
   "outputs": [
    {
     "name": "stdout",
     "output_type": "stream",
     "text": [
      "(1599, 12)\n"
     ]
    },
    {
     "data": {
      "text/plain": [
       "(1451, 12)"
      ]
     },
     "execution_count": 53,
     "metadata": {},
     "output_type": "execute_result"
    }
   ],
   "source": [
    "from scipy import stats\n",
    "import numpy as np\n",
    "\n",
    "z = np.abs(stats.zscore(wine_data))\n",
    "print(z.shape)\n",
    "\n",
    "threshold = 3\n",
    "wine_data = wine_data[(z < threshold).all(axis=1)]\n",
    "wine_data.shape"
   ]
  },
  {
   "cell_type": "code",
   "execution_count": 54,
   "id": "8519388b",
   "metadata": {},
   "outputs": [],
   "source": [
    "wine_data['goodquality'] = [1 if x >= 7 else 0 for x in wine_data['quality']]\n",
    "X = wine_data.drop(['quality','goodquality'], axis = 1)\n",
    "y = wine_data['goodquality']\n"
   ]
  },
  {
   "cell_type": "markdown",
   "id": "440b58f1",
   "metadata": {},
   "source": [
    "### Here we remove the features corresponding to the least important as dictated by the trained SVM model"
   ]
  },
  {
   "cell_type": "code",
   "execution_count": 55,
   "id": "7ee0fd2d",
   "metadata": {},
   "outputs": [],
   "source": [
    "del X['density']\n",
    "del X['pH']\n",
    "del X['free sulfur dioxide']"
   ]
  },
  {
   "cell_type": "code",
   "execution_count": 56,
   "id": "253d1d61",
   "metadata": {},
   "outputs": [
    {
     "name": "stderr",
     "output_type": "stream",
     "text": [
      "C:\\Users\\Francis Dave\\AppData\\Roaming\\Python\\Python39\\site-packages\\imblearn\\utils\\_validation.py:299: UserWarning: After over-sampling, the number of samples (1700) in class 0 will be larger than the number of samples in the majority class (class #0 -> 1250)\n",
      "  warnings.warn(\n",
      "C:\\Users\\Francis Dave\\AppData\\Roaming\\Python\\Python39\\site-packages\\imblearn\\utils\\_validation.py:299: UserWarning: After over-sampling, the number of samples (1700) in class 1 will be larger than the number of samples in the majority class (class #0 -> 1250)\n",
      "  warnings.warn(\n"
     ]
    }
   ],
   "source": [
    "from imblearn.over_sampling import SMOTE\n",
    "\n",
    "sample_size = 1700\n",
    "oversample = SMOTE(sampling_strategy={0: sample_size, 1: sample_size})\n",
    "X, y = oversample.fit_resample(X, y)"
   ]
  },
  {
   "cell_type": "code",
   "execution_count": 57,
   "id": "17ff4ecb",
   "metadata": {},
   "outputs": [],
   "source": [
    "# Splitting the data\n",
    "from sklearn.model_selection import train_test_split\n",
    "X_train_nn, X_test_nn, y_train_nn, y_test_nn = train_test_split(X, y, test_size=.25, random_state=0)"
   ]
  },
  {
   "cell_type": "code",
   "execution_count": 58,
   "id": "dfe45aa9",
   "metadata": {},
   "outputs": [],
   "source": [
    "# Normalize feature variables\n",
    "from sklearn.preprocessing import StandardScaler\n",
    "sc = StandardScaler()\n",
    "\n",
    "X_train_nn = sc.fit_transform(X_train_nn)\n",
    "X_test_nn = sc.fit_transform(X_test_nn)"
   ]
  },
  {
   "cell_type": "code",
   "execution_count": 59,
   "id": "c4ea61da",
   "metadata": {},
   "outputs": [],
   "source": [
    "n_classes = 2 # because we only have 6 categories\n",
    "y_train_cat = tf.keras.utils.to_categorical(y_train_nn, n_classes)\n",
    "y_test_cat = tf.keras.utils.to_categorical(y_test_nn, n_classes)"
   ]
  },
  {
   "cell_type": "code",
   "execution_count": 60,
   "id": "316c8b78",
   "metadata": {},
   "outputs": [],
   "source": [
    "model = Sequential()\n",
    "model.add(Dense(16, activation='relu', input_shape=(8,)))\n",
    "model.add(Dense(12, activation='relu'))\n",
    "model.add(Dense(2, activation='sigmoid'))"
   ]
  },
  {
   "cell_type": "code",
   "execution_count": 61,
   "id": "b2dee14f",
   "metadata": {},
   "outputs": [],
   "source": [
    "model.compile(loss =\"binary_crossentropy\", optimizer = 'adam', metrics= ['accuracy'])"
   ]
  },
  {
   "cell_type": "code",
   "execution_count": 62,
   "id": "d88350b8",
   "metadata": {},
   "outputs": [
    {
     "name": "stdout",
     "output_type": "stream",
     "text": [
      "Epoch 1/100\n",
      "40/40 [==============================] - 0s 3ms/step - loss: 0.6791 - accuracy: 0.6008 - val_loss: 0.6225 - val_accuracy: 0.7576\n",
      "Epoch 2/100\n",
      "40/40 [==============================] - 0s 1ms/step - loss: 0.5918 - accuracy: 0.7584 - val_loss: 0.5335 - val_accuracy: 0.8094\n",
      "Epoch 3/100\n",
      "40/40 [==============================] - 0s 1ms/step - loss: 0.5173 - accuracy: 0.7976 - val_loss: 0.4558 - val_accuracy: 0.8282\n",
      "Epoch 4/100\n",
      "40/40 [==============================] - 0s 1ms/step - loss: 0.4611 - accuracy: 0.8141 - val_loss: 0.4039 - val_accuracy: 0.8424\n",
      "Epoch 5/100\n",
      "40/40 [==============================] - 0s 1ms/step - loss: 0.4282 - accuracy: 0.8251 - val_loss: 0.3766 - val_accuracy: 0.8494\n",
      "Epoch 6/100\n",
      "40/40 [==============================] - 0s 1ms/step - loss: 0.4114 - accuracy: 0.8298 - val_loss: 0.3607 - val_accuracy: 0.8565\n",
      "Epoch 7/100\n",
      "40/40 [==============================] - 0s 1ms/step - loss: 0.4017 - accuracy: 0.8345 - val_loss: 0.3524 - val_accuracy: 0.8553\n",
      "Epoch 8/100\n",
      "40/40 [==============================] - 0s 1ms/step - loss: 0.3946 - accuracy: 0.8361 - val_loss: 0.3463 - val_accuracy: 0.8600\n",
      "Epoch 9/100\n",
      "40/40 [==============================] - 0s 1ms/step - loss: 0.3900 - accuracy: 0.8357 - val_loss: 0.3431 - val_accuracy: 0.8659\n",
      "Epoch 10/100\n",
      "40/40 [==============================] - 0s 1ms/step - loss: 0.3858 - accuracy: 0.8373 - val_loss: 0.3403 - val_accuracy: 0.8671\n",
      "Epoch 11/100\n",
      "40/40 [==============================] - 0s 1ms/step - loss: 0.3826 - accuracy: 0.8380 - val_loss: 0.3380 - val_accuracy: 0.8682\n",
      "Epoch 12/100\n",
      "40/40 [==============================] - 0s 1ms/step - loss: 0.3799 - accuracy: 0.8400 - val_loss: 0.3358 - val_accuracy: 0.8718\n",
      "Epoch 13/100\n",
      "40/40 [==============================] - 0s 1ms/step - loss: 0.3769 - accuracy: 0.8412 - val_loss: 0.3337 - val_accuracy: 0.8729\n",
      "Epoch 14/100\n",
      "40/40 [==============================] - 0s 1ms/step - loss: 0.3746 - accuracy: 0.8431 - val_loss: 0.3319 - val_accuracy: 0.8718\n",
      "Epoch 15/100\n",
      "40/40 [==============================] - 0s 1ms/step - loss: 0.3718 - accuracy: 0.8443 - val_loss: 0.3303 - val_accuracy: 0.8718\n",
      "Epoch 16/100\n",
      "40/40 [==============================] - 0s 1ms/step - loss: 0.3702 - accuracy: 0.8447 - val_loss: 0.3296 - val_accuracy: 0.8671\n",
      "Epoch 17/100\n",
      "40/40 [==============================] - 0s 1ms/step - loss: 0.3672 - accuracy: 0.8467 - val_loss: 0.3269 - val_accuracy: 0.8682\n",
      "Epoch 18/100\n",
      "40/40 [==============================] - 0s 1ms/step - loss: 0.3661 - accuracy: 0.8471 - val_loss: 0.3280 - val_accuracy: 0.8753\n",
      "Epoch 19/100\n",
      "40/40 [==============================] - 0s 1ms/step - loss: 0.3629 - accuracy: 0.8490 - val_loss: 0.3246 - val_accuracy: 0.8694\n",
      "Epoch 20/100\n",
      "40/40 [==============================] - 0s 1ms/step - loss: 0.3608 - accuracy: 0.8486 - val_loss: 0.3230 - val_accuracy: 0.8741\n",
      "Epoch 21/100\n",
      "40/40 [==============================] - 0s 1ms/step - loss: 0.3583 - accuracy: 0.8498 - val_loss: 0.3216 - val_accuracy: 0.8765\n",
      "Epoch 22/100\n",
      "40/40 [==============================] - 0s 1ms/step - loss: 0.3561 - accuracy: 0.8482 - val_loss: 0.3205 - val_accuracy: 0.8824\n",
      "Epoch 23/100\n",
      "40/40 [==============================] - 0s 1ms/step - loss: 0.3534 - accuracy: 0.8506 - val_loss: 0.3184 - val_accuracy: 0.8800\n",
      "Epoch 24/100\n",
      "40/40 [==============================] - 0s 1ms/step - loss: 0.3513 - accuracy: 0.8510 - val_loss: 0.3184 - val_accuracy: 0.8788\n",
      "Epoch 25/100\n",
      "40/40 [==============================] - 0s 1ms/step - loss: 0.3499 - accuracy: 0.8522 - val_loss: 0.3166 - val_accuracy: 0.8788\n",
      "Epoch 26/100\n",
      "40/40 [==============================] - 0s 1ms/step - loss: 0.3478 - accuracy: 0.8533 - val_loss: 0.3154 - val_accuracy: 0.8788\n",
      "Epoch 27/100\n",
      "40/40 [==============================] - 0s 1ms/step - loss: 0.3457 - accuracy: 0.8510 - val_loss: 0.3144 - val_accuracy: 0.8788\n",
      "Epoch 28/100\n",
      "40/40 [==============================] - 0s 1ms/step - loss: 0.3440 - accuracy: 0.8525 - val_loss: 0.3146 - val_accuracy: 0.8800\n",
      "Epoch 29/100\n",
      "40/40 [==============================] - 0s 1ms/step - loss: 0.3424 - accuracy: 0.8549 - val_loss: 0.3134 - val_accuracy: 0.8812\n",
      "Epoch 30/100\n",
      "40/40 [==============================] - 0s 1ms/step - loss: 0.3403 - accuracy: 0.8529 - val_loss: 0.3111 - val_accuracy: 0.8776\n",
      "Epoch 31/100\n",
      "40/40 [==============================] - 0s 1ms/step - loss: 0.3391 - accuracy: 0.8525 - val_loss: 0.3102 - val_accuracy: 0.8824\n",
      "Epoch 32/100\n",
      "40/40 [==============================] - 0s 1ms/step - loss: 0.3377 - accuracy: 0.8565 - val_loss: 0.3096 - val_accuracy: 0.8835\n",
      "Epoch 33/100\n",
      "40/40 [==============================] - 0s 1ms/step - loss: 0.3358 - accuracy: 0.8557 - val_loss: 0.3093 - val_accuracy: 0.8835\n",
      "Epoch 34/100\n",
      "40/40 [==============================] - 0s 1ms/step - loss: 0.3337 - accuracy: 0.8541 - val_loss: 0.3073 - val_accuracy: 0.8835\n",
      "Epoch 35/100\n",
      "40/40 [==============================] - 0s 1ms/step - loss: 0.3318 - accuracy: 0.8573 - val_loss: 0.3072 - val_accuracy: 0.8835\n",
      "Epoch 36/100\n",
      "40/40 [==============================] - 0s 2ms/step - loss: 0.3298 - accuracy: 0.8576 - val_loss: 0.3052 - val_accuracy: 0.8859\n",
      "Epoch 37/100\n",
      "40/40 [==============================] - 0s 1ms/step - loss: 0.3286 - accuracy: 0.8561 - val_loss: 0.3034 - val_accuracy: 0.8871\n",
      "Epoch 38/100\n",
      "40/40 [==============================] - 0s 2ms/step - loss: 0.3269 - accuracy: 0.8596 - val_loss: 0.3043 - val_accuracy: 0.8859\n",
      "Epoch 39/100\n",
      "40/40 [==============================] - 0s 1ms/step - loss: 0.3251 - accuracy: 0.8596 - val_loss: 0.3020 - val_accuracy: 0.8824\n",
      "Epoch 40/100\n",
      "40/40 [==============================] - 0s 2ms/step - loss: 0.3234 - accuracy: 0.8573 - val_loss: 0.3031 - val_accuracy: 0.8859\n",
      "Epoch 41/100\n",
      "40/40 [==============================] - 0s 1ms/step - loss: 0.3221 - accuracy: 0.8592 - val_loss: 0.3010 - val_accuracy: 0.8882\n",
      "Epoch 42/100\n",
      "40/40 [==============================] - 0s 1ms/step - loss: 0.3199 - accuracy: 0.8608 - val_loss: 0.2989 - val_accuracy: 0.8894\n",
      "Epoch 43/100\n",
      "40/40 [==============================] - 0s 1ms/step - loss: 0.3178 - accuracy: 0.8635 - val_loss: 0.2989 - val_accuracy: 0.8871\n",
      "Epoch 44/100\n",
      "40/40 [==============================] - 0s 1ms/step - loss: 0.3169 - accuracy: 0.8627 - val_loss: 0.2977 - val_accuracy: 0.8871\n",
      "Epoch 45/100\n",
      "40/40 [==============================] - 0s 1ms/step - loss: 0.3159 - accuracy: 0.8631 - val_loss: 0.2961 - val_accuracy: 0.8835\n",
      "Epoch 46/100\n",
      "40/40 [==============================] - 0s 1ms/step - loss: 0.3141 - accuracy: 0.8655 - val_loss: 0.2955 - val_accuracy: 0.8847\n",
      "Epoch 47/100\n",
      "40/40 [==============================] - 0s 1ms/step - loss: 0.3123 - accuracy: 0.8643 - val_loss: 0.2945 - val_accuracy: 0.8859\n",
      "Epoch 48/100\n",
      "40/40 [==============================] - 0s 1ms/step - loss: 0.3111 - accuracy: 0.8651 - val_loss: 0.2940 - val_accuracy: 0.8882\n",
      "Epoch 49/100\n",
      "40/40 [==============================] - 0s 1ms/step - loss: 0.3090 - accuracy: 0.8671 - val_loss: 0.2939 - val_accuracy: 0.8871\n",
      "Epoch 50/100\n",
      "40/40 [==============================] - 0s 1ms/step - loss: 0.3079 - accuracy: 0.8675 - val_loss: 0.2931 - val_accuracy: 0.8800\n",
      "Epoch 51/100\n",
      "40/40 [==============================] - 0s 1ms/step - loss: 0.3065 - accuracy: 0.8675 - val_loss: 0.2909 - val_accuracy: 0.8847\n",
      "Epoch 52/100\n",
      "40/40 [==============================] - 0s 1ms/step - loss: 0.3052 - accuracy: 0.8678 - val_loss: 0.2909 - val_accuracy: 0.8765\n",
      "Epoch 53/100\n",
      "40/40 [==============================] - 0s 1ms/step - loss: 0.3035 - accuracy: 0.8675 - val_loss: 0.2900 - val_accuracy: 0.8800\n",
      "Epoch 54/100\n",
      "40/40 [==============================] - 0s 1ms/step - loss: 0.3025 - accuracy: 0.8686 - val_loss: 0.2900 - val_accuracy: 0.8800\n",
      "Epoch 55/100\n",
      "40/40 [==============================] - 0s 1ms/step - loss: 0.3013 - accuracy: 0.8718 - val_loss: 0.2893 - val_accuracy: 0.8824\n",
      "Epoch 56/100\n",
      "40/40 [==============================] - 0s 1ms/step - loss: 0.3004 - accuracy: 0.8710 - val_loss: 0.2888 - val_accuracy: 0.8788\n",
      "Epoch 57/100\n",
      "40/40 [==============================] - 0s 1ms/step - loss: 0.2980 - accuracy: 0.8698 - val_loss: 0.2871 - val_accuracy: 0.8824\n",
      "Epoch 58/100\n",
      "40/40 [==============================] - 0s 1ms/step - loss: 0.2973 - accuracy: 0.8722 - val_loss: 0.2878 - val_accuracy: 0.8824\n",
      "Epoch 59/100\n",
      "40/40 [==============================] - 0s 1ms/step - loss: 0.2956 - accuracy: 0.8714 - val_loss: 0.2866 - val_accuracy: 0.8812\n",
      "Epoch 60/100\n",
      "40/40 [==============================] - 0s 1ms/step - loss: 0.2938 - accuracy: 0.8737 - val_loss: 0.2862 - val_accuracy: 0.8800\n",
      "Epoch 61/100\n",
      "40/40 [==============================] - 0s 1ms/step - loss: 0.2928 - accuracy: 0.8757 - val_loss: 0.2866 - val_accuracy: 0.8812\n",
      "Epoch 62/100\n",
      "40/40 [==============================] - 0s 1ms/step - loss: 0.2914 - accuracy: 0.8745 - val_loss: 0.2845 - val_accuracy: 0.8812\n",
      "Epoch 63/100\n",
      "40/40 [==============================] - 0s 1ms/step - loss: 0.2898 - accuracy: 0.8753 - val_loss: 0.2855 - val_accuracy: 0.8788\n",
      "Epoch 64/100\n",
      "40/40 [==============================] - 0s 1ms/step - loss: 0.2903 - accuracy: 0.8769 - val_loss: 0.2867 - val_accuracy: 0.8824\n",
      "Epoch 65/100\n",
      "40/40 [==============================] - 0s 1ms/step - loss: 0.2885 - accuracy: 0.8776 - val_loss: 0.2850 - val_accuracy: 0.8776\n",
      "Epoch 66/100\n",
      "40/40 [==============================] - 0s 1ms/step - loss: 0.2868 - accuracy: 0.8776 - val_loss: 0.2822 - val_accuracy: 0.8800\n",
      "Epoch 67/100\n",
      "40/40 [==============================] - 0s 1ms/step - loss: 0.2853 - accuracy: 0.8784 - val_loss: 0.2841 - val_accuracy: 0.8800\n",
      "Epoch 68/100\n",
      "40/40 [==============================] - 0s 1ms/step - loss: 0.2841 - accuracy: 0.8773 - val_loss: 0.2834 - val_accuracy: 0.8812\n",
      "Epoch 69/100\n",
      "40/40 [==============================] - 0s 1ms/step - loss: 0.2831 - accuracy: 0.8776 - val_loss: 0.2816 - val_accuracy: 0.8835\n",
      "Epoch 70/100\n",
      "40/40 [==============================] - 0s 1ms/step - loss: 0.2824 - accuracy: 0.8808 - val_loss: 0.2815 - val_accuracy: 0.8753\n",
      "Epoch 71/100\n",
      "40/40 [==============================] - 0s 1ms/step - loss: 0.2807 - accuracy: 0.8792 - val_loss: 0.2814 - val_accuracy: 0.8753\n",
      "Epoch 72/100\n",
      "40/40 [==============================] - 0s 1ms/step - loss: 0.2795 - accuracy: 0.8796 - val_loss: 0.2813 - val_accuracy: 0.8776\n",
      "Epoch 73/100\n",
      "40/40 [==============================] - 0s 1ms/step - loss: 0.2792 - accuracy: 0.8820 - val_loss: 0.2810 - val_accuracy: 0.8835\n",
      "Epoch 74/100\n",
      "40/40 [==============================] - 0s 1ms/step - loss: 0.2784 - accuracy: 0.8863 - val_loss: 0.2830 - val_accuracy: 0.8871\n",
      "Epoch 75/100\n",
      "40/40 [==============================] - 0s 1ms/step - loss: 0.2770 - accuracy: 0.8867 - val_loss: 0.2797 - val_accuracy: 0.8835\n",
      "Epoch 76/100\n",
      "40/40 [==============================] - 0s 1ms/step - loss: 0.2760 - accuracy: 0.8859 - val_loss: 0.2800 - val_accuracy: 0.8765\n",
      "Epoch 77/100\n",
      "40/40 [==============================] - 0s 1ms/step - loss: 0.2746 - accuracy: 0.8898 - val_loss: 0.2791 - val_accuracy: 0.8859\n",
      "Epoch 78/100\n",
      "40/40 [==============================] - 0s 1ms/step - loss: 0.2735 - accuracy: 0.8882 - val_loss: 0.2783 - val_accuracy: 0.8847\n",
      "Epoch 79/100\n",
      "40/40 [==============================] - 0s 1ms/step - loss: 0.2728 - accuracy: 0.8914 - val_loss: 0.2793 - val_accuracy: 0.8812\n",
      "Epoch 80/100\n",
      "40/40 [==============================] - 0s 1ms/step - loss: 0.2716 - accuracy: 0.8918 - val_loss: 0.2787 - val_accuracy: 0.8847\n",
      "Epoch 81/100\n",
      "40/40 [==============================] - 0s 1ms/step - loss: 0.2700 - accuracy: 0.8910 - val_loss: 0.2754 - val_accuracy: 0.8824\n",
      "Epoch 82/100\n",
      "40/40 [==============================] - 0s 1ms/step - loss: 0.2690 - accuracy: 0.8957 - val_loss: 0.2772 - val_accuracy: 0.8847\n",
      "Epoch 83/100\n",
      "40/40 [==============================] - 0s 1ms/step - loss: 0.2684 - accuracy: 0.8933 - val_loss: 0.2771 - val_accuracy: 0.8894\n",
      "Epoch 84/100\n",
      "40/40 [==============================] - 0s 1ms/step - loss: 0.2677 - accuracy: 0.8953 - val_loss: 0.2781 - val_accuracy: 0.8824\n",
      "Epoch 85/100\n",
      "40/40 [==============================] - 0s 1ms/step - loss: 0.2662 - accuracy: 0.8949 - val_loss: 0.2758 - val_accuracy: 0.8882\n",
      "Epoch 86/100\n",
      "40/40 [==============================] - 0s 1ms/step - loss: 0.2653 - accuracy: 0.8976 - val_loss: 0.2773 - val_accuracy: 0.8871\n",
      "Epoch 87/100\n",
      "40/40 [==============================] - 0s 1ms/step - loss: 0.2647 - accuracy: 0.8949 - val_loss: 0.2755 - val_accuracy: 0.8918\n",
      "Epoch 88/100\n",
      "40/40 [==============================] - 0s 1ms/step - loss: 0.2633 - accuracy: 0.8984 - val_loss: 0.2762 - val_accuracy: 0.8882\n",
      "Epoch 89/100\n",
      "40/40 [==============================] - 0s 1ms/step - loss: 0.2625 - accuracy: 0.8976 - val_loss: 0.2741 - val_accuracy: 0.8882\n",
      "Epoch 90/100\n",
      "40/40 [==============================] - 0s 1ms/step - loss: 0.2621 - accuracy: 0.8984 - val_loss: 0.2743 - val_accuracy: 0.8871\n",
      "Epoch 91/100\n",
      "40/40 [==============================] - 0s 1ms/step - loss: 0.2613 - accuracy: 0.9000 - val_loss: 0.2743 - val_accuracy: 0.8918\n",
      "Epoch 92/100\n",
      "40/40 [==============================] - 0s 1ms/step - loss: 0.2600 - accuracy: 0.9000 - val_loss: 0.2739 - val_accuracy: 0.8894\n",
      "Epoch 93/100\n",
      "40/40 [==============================] - 0s 1ms/step - loss: 0.2589 - accuracy: 0.8984 - val_loss: 0.2730 - val_accuracy: 0.8906\n",
      "Epoch 94/100\n",
      "40/40 [==============================] - 0s 1ms/step - loss: 0.2579 - accuracy: 0.9024 - val_loss: 0.2740 - val_accuracy: 0.8882\n",
      "Epoch 95/100\n",
      "40/40 [==============================] - 0s 1ms/step - loss: 0.2573 - accuracy: 0.9000 - val_loss: 0.2714 - val_accuracy: 0.8976\n",
      "Epoch 96/100\n",
      "40/40 [==============================] - 0s 1ms/step - loss: 0.2557 - accuracy: 0.9024 - val_loss: 0.2726 - val_accuracy: 0.8882\n",
      "Epoch 97/100\n",
      "40/40 [==============================] - 0s 1ms/step - loss: 0.2557 - accuracy: 0.9000 - val_loss: 0.2723 - val_accuracy: 0.8906\n",
      "Epoch 98/100\n",
      "40/40 [==============================] - 0s 1ms/step - loss: 0.2537 - accuracy: 0.9016 - val_loss: 0.2730 - val_accuracy: 0.8906\n",
      "Epoch 99/100\n",
      "40/40 [==============================] - 0s 1ms/step - loss: 0.2531 - accuracy: 0.9020 - val_loss: 0.2708 - val_accuracy: 0.8906\n",
      "Epoch 100/100\n",
      "40/40 [==============================] - 0s 1ms/step - loss: 0.2520 - accuracy: 0.9043 - val_loss: 0.2716 - val_accuracy: 0.8906\n"
     ]
    }
   ],
   "source": [
    "history = model.fit(X_train_nn, y_train_cat,  batch_size=64, epochs = 100 , validation_data = (X_test_nn, y_test_cat))"
   ]
  },
  {
   "cell_type": "code",
   "execution_count": 63,
   "id": "7f67ae83",
   "metadata": {},
   "outputs": [
    {
     "data": {
      "image/png": "[encoded data removed]",
      "text/plain": [
       "<Figure size 432x288 with 1 Axes>"
      ]
     },
     "metadata": {
      "needs_background": "light"
     },
     "output_type": "display_data"
    }
   ],
   "source": [
    "plt.plot(history.history['loss'], label='MAE training data')\n",
    "plt.plot(history.history['val_loss'], label='MAE validation data')\n",
    "plt.legend()\n",
    "plt.title('MAE for model')\n",
    "plt.ylabel('MAE')\n",
    "plt.xlabel('epoch')\n",
    "plt.show()"
   ]
  },
  {
   "cell_type": "code",
   "execution_count": 64,
   "id": "932d7088",
   "metadata": {},
   "outputs": [],
   "source": [
    "y_pred_nn = model.predict(X_test_nn)"
   ]
  },
  {
   "cell_type": "code",
   "execution_count": 65,
   "id": "d6e3eb56",
   "metadata": {},
   "outputs": [
    {
     "data": {
      "image/png": "[encoded data removed]",
      "text/plain": [
       "<Figure size 432x288 with 1 Axes>"
      ]
     },
     "metadata": {
      "needs_background": "light"
     },
     "output_type": "display_data"
    }
   ],
   "source": [
    "plt.plot(history.history['accuracy'], label='Accuracy training data')\n",
    "plt.plot(history.history['val_accuracy'], label='Accuracy validation data')\n",
    "plt.legend()\n",
    "plt.title('Model accuracy')\n",
    "plt.ylabel('Accuracy')\n",
    "plt.xlabel('epoch')\n",
    "plt.show()"
   ]
  },
  {
   "cell_type": "code",
   "execution_count": 66,
   "id": "58958e24",
   "metadata": {},
   "outputs": [
    {
     "name": "stdout",
     "output_type": "stream",
     "text": [
      "accuracy: 0.891\n",
      "precision: 0.892\n",
      "recall: 0.892\n"
     ]
    }
   ],
   "source": [
    "from sklearn.metrics import accuracy_score, precision_score, recall_score\n",
    "\n",
    "discrete_y_pred_nn = []\n",
    "\n",
    "for e in y_pred_nn:\n",
    "    discrete_y_pred_nn.append(np.argmax(e))\n",
    "\n",
    "accuracy = round(accuracy_score(y_test_nn, discrete_y_pred_nn), 3)\n",
    "precision = round(precision_score(y_test_nn, discrete_y_pred_nn, average='macro'), 3)\n",
    "recall = round(recall_score(y_test_nn, discrete_y_pred_nn, average='macro'), 3)\n",
    "\n",
    "print(\"accuracy: {}\".format(accuracy))\n",
    "print(\"precision: {}\".format(precision))\n",
    "print(\"recall: {}\".format(precision))\n"
   ]
  }
 ],
 "metadata": {
  "kernelspec": {
   "display_name": "Python 3.9.7 64-bit",
   "language": "python",
   "name": "python3"
  },
  "language_info": {
   "codemirror_mode": {
    "name": "ipython",
    "version": 3
   },
   "file_extension": ".py",
   "mimetype": "text/x-python",
   "name": "python",
   "nbconvert_exporter": "python",
   "pygments_lexer": "ipython3",
   "version": "3.9.7 (tags/v3.9.7:1016ef3, Aug 30 2021, 20:19:38) [MSC v.1929 64 bit (AMD64)]"
  },
  "vscode": {
   "interpreter": {
    "hash": "11938c6bc6919ae2720b4d5011047913343b08a43b18698fd82dedb0d4417594"
   }
  }
 },
 "nbformat": 4,
 "nbformat_minor": 5
}
